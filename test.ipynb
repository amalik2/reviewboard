{
  "nbformat": 4,
  "nbformat_minor": 0,
  "metadata": {
    "colab": {
      "name": "Lab_0.ipynb.txt",
      "version": "0.3.2",
      "provenance": [],
      "collapsed_sections": [],
      "toc_visible": true
    },
    "kernelspec": {
      "name": "python3",
      "display_name": "Python 3"
    }
  },
  "cells": [
    {
      "cell_type": "markdown",
      "metadata": {
        "id": "ZN7m0ivNclYs",
        "colab_type": "text"
      },
      "source": [
        "# Lab 0\n",
        "\n",
        "This lab will cover the basics of python and the usage of numpy, pandas and matplotlib\n"
      ]
    },
    {
      "cell_type": "markdown",
      "metadata": {
        "id": "1f9wW8xOc63w",
        "colab_type": "text"
      },
      "source": [
        "# Python Basics"
      ]
    },
    {
      "cell_type": "markdown",
      "metadata": {
        "id": "ExNv8KmYxDYW",
        "colab_type": "text"
      },
      "source": [
        "The materials and examples presented in this file are from \"http://learnpython.org\", \"https://towardsdatascience.com\", \"https://www.dataquest.io/\" and other python tutorial websites\n",
        "### Hello, World!"
      ]
    },
    {
      "cell_type": "code",
      "metadata": {
        "id": "KYbMhyk7xDYX",
        "colab_type": "code",
        "colab": {}
      },
      "source": [
        "print(\"Hello world!\")\n"
      ],
      "execution_count": 0,
      "outputs": []
    },
    {
      "cell_type": "markdown",
      "metadata": {
        "id": "sw4dKd_UxDYb",
        "colab_type": "text"
      },
      "source": [
        "### Variables and Types\n",
        "Python is an interpreted, high-level, general-purpose programming language.\n",
        "\n",
        "Python is completely object oriented, and not \"statically typed\". You do not need to declare variables before using them, or declare their type. Every variable in Python is an object."
      ]
    },
    {
      "cell_type": "code",
      "metadata": {
        "id": "tuhrMYoWxDYc",
        "colab_type": "code",
        "colab": {}
      },
      "source": [
        "myint = 7\n",
        "print(myint)\n"
      ],
      "execution_count": 0,
      "outputs": []
    },
    {
      "cell_type": "code",
      "metadata": {
        "id": "SHGiicbPxDYf",
        "colab_type": "code",
        "colab": {}
      },
      "source": [
        "myfloat = 7.0\n",
        "print(myfloat)\n",
        "myfloat = float(7)\n",
        "print(myfloat)"
      ],
      "execution_count": 0,
      "outputs": []
    },
    {
      "cell_type": "code",
      "metadata": {
        "id": "QutcENVLxDYi",
        "colab_type": "code",
        "colab": {}
      },
      "source": [
        "mystring = 'hello'\n",
        "print(mystring)\n",
        "mystring = \"hello\"\n",
        "print(mystring)"
      ],
      "execution_count": 0,
      "outputs": []
    },
    {
      "cell_type": "code",
      "metadata": {
        "id": "kY_mqDzaxDYl",
        "colab_type": "code",
        "colab": {}
      },
      "source": [
        "one = 1\n",
        "two = 2\n",
        "three = one + two\n",
        "print(three)\n",
        "\n",
        "hello = \"hello\"\n",
        "world = \"world\"\n",
        "helloworld = hello + \" \" + world\n",
        "print(helloworld)"
      ],
      "execution_count": 0,
      "outputs": []
    },
    {
      "cell_type": "markdown",
      "metadata": {
        "id": "TaG_F3I-xDYo",
        "colab_type": "text"
      },
      "source": [
        "Python uses C-style string formatting to create new, formatted strings.\n",
        "\n",
        "**%s** - String (or any object with a string representation, like numbers)\n",
        "\n",
        "**%d** - Integers\n",
        "\n",
        "**%f** - Floating point numbers"
      ]
    },
    {
      "cell_type": "code",
      "metadata": {
        "id": "v-QmK0uBxDYp",
        "colab_type": "code",
        "colab": {}
      },
      "source": [
        "# This prints out \"matthew is 23 years old.\"\n",
        "name = \"matthew\"\n",
        "age = 23\n",
        "print(\"%s is %d years old.\" % (name, age))\n",
        "print(\"{} is {} years old.\".format(name, age))"
      ],
      "execution_count": 0,
      "outputs": []
    },
    {
      "cell_type": "markdown",
      "metadata": {
        "id": "83fQJO1DxDYs",
        "colab_type": "text"
      },
      "source": [
        "### Getting user input\n"
      ]
    },
    {
      "cell_type": "code",
      "metadata": {
        "id": "7PWU-NZDxDYt",
        "colab_type": "code",
        "colab": {}
      },
      "source": [
        "a = input(\"insert a number\")\n",
        "print(a)"
      ],
      "execution_count": 0,
      "outputs": []
    },
    {
      "cell_type": "markdown",
      "metadata": {
        "id": "ZqDspT8sxDYw",
        "colab_type": "text"
      },
      "source": [
        "### Lists\n",
        "Lists are very similar to arrays. They can contain any type of variable, and they can contain as many variables as you wish. Lists can also be iterated over in a very simple manner. Here is an example of how to build a list."
      ]
    },
    {
      "cell_type": "code",
      "metadata": {
        "id": "z965Q_LuxDYx",
        "colab_type": "code",
        "colab": {}
      },
      "source": [
        "mylist = []\n",
        "mylist.append(1)\n",
        "mylist.append(2)\n",
        "mylist.append(3)\n",
        "print(mylist[0]) # prints 1\n",
        "print(mylist[1]) # prints 2\n",
        "print(mylist[2]) # prints 3\n",
        "\n",
        "# prints out 1,2,3\n",
        "for x in mylist:\n",
        "    print(x)"
      ],
      "execution_count": 0,
      "outputs": []
    },
    {
      "cell_type": "code",
      "metadata": {
        "id": "B5RH-MgkxDY0",
        "colab_type": "code",
        "colab": {}
      },
      "source": [
        "even_numbers = [2,4,6,8]\n",
        "odd_numbers = [1,3,5,7]\n",
        "all_numbers = odd_numbers + even_numbers\n",
        "print(all_numbers)"
      ],
      "execution_count": 0,
      "outputs": []
    },
    {
      "cell_type": "markdown",
      "metadata": {
        "id": "lnhQK425xDY4",
        "colab_type": "text"
      },
      "source": [
        "What if we want to add the elements of this two list with each other?"
      ]
    },
    {
      "cell_type": "code",
      "metadata": {
        "id": "7KWur68hxDY5",
        "colab_type": "code",
        "colab": {}
      },
      "source": [
        "[x + y for x, y in zip(even_numbers, odd_numbers)]"
      ],
      "execution_count": 0,
      "outputs": []
    },
    {
      "cell_type": "markdown",
      "metadata": {
        "id": "mLnBDalUxDY8",
        "colab_type": "text"
      },
      "source": [
        "or we can use numpy (next section)"
      ]
    },
    {
      "cell_type": "markdown",
      "metadata": {
        "id": "4c3D6YHHxDY9",
        "colab_type": "text"
      },
      "source": [
        "### Tuples\n",
        "A tuple is a sequence of immutable Python objects. Tuples are sequences, just like lists. The differences between tuples and lists are, the tuples cannot be changed unlike lists and tuples use parentheses"
      ]
    },
    {
      "cell_type": "code",
      "metadata": {
        "id": "mkk3Vi6UxDY-",
        "colab_type": "code",
        "colab": {}
      },
      "source": [
        "tup1 = ('physics', 'chemistry', 1997, 2000);\n",
        "tup2 = (1, 2, 3, 4, 5 );\n",
        "tup3 = \"a\", \"b\", \"c\", \"d\";\n",
        "print(tup1)\n",
        "for x in tup1:\n",
        "  print(x)"
      ],
      "execution_count": 0,
      "outputs": []
    },
    {
      "cell_type": "markdown",
      "metadata": {
        "id": "Q-RuLlLLxDZB",
        "colab_type": "text"
      },
      "source": [
        "### Dictionaries\n",
        "A dictionary is a data type similar to arrays, but works with keys and values instead of indexes. Each value stored in a dictionary can be accessed using a key, which is any type of object (a string, a number, a list, etc.) instead of using its index to address it."
      ]
    },
    {
      "cell_type": "code",
      "metadata": {
        "id": "fweIv8TuxDZB",
        "colab_type": "code",
        "colab": {}
      },
      "source": [
        "phonebook = {}\n",
        "phonebook[\"John\"] = 938477566\n",
        "phonebook[\"Jack\"] = 938377264\n",
        "phonebook[\"Jill\"] = 947662781\n",
        "# phonebook['me'] = \"me\"\n",
        "print(phonebook)"
      ],
      "execution_count": 0,
      "outputs": []
    },
    {
      "cell_type": "code",
      "metadata": {
        "id": "qBszCkEtxDZE",
        "colab_type": "code",
        "colab": {}
      },
      "source": [
        "\"phonebook = {\n",
        "    \"John\" : 938477566,\n",
        "    \"Jack\" : 938377264,\n",
        "    \"Jill\" : 947662781\n",
        "}"
      ],
      "execution_count": 0,
      "outputs": []
    },
    {
      "cell_type": "code",
      "metadata": {
        "id": "Ijrbw6mTxDZH",
        "colab_type": "code",
        "colab": {}
      },
      "source": [
        "for name, number in phonebook.items():\n",
        "    print(\"Phone number of %s is %d\" % (name, number))"
      ],
      "execution_count": 0,
      "outputs": []
    },
    {
      "cell_type": "code",
      "metadata": {
        "id": "kT55IT6qxDZK",
        "colab_type": "code",
        "colab": {}
      },
      "source": [
        "phonebook = {\n",
        "   \"John\" : 938477566,\n",
        "   \"Jack\" : 938377264,\n",
        "   \"Jill\" : 947662781\n",
        "}\n",
        "del phonebook[\"John\"]\n",
        "print(phonebook)\n",
        "print(phonebook[\"Jack\"])"
      ],
      "execution_count": 0,
      "outputs": []
    },
    {
      "cell_type": "markdown",
      "metadata": {
        "id": "U3GWappFxDZN",
        "colab_type": "text"
      },
      "source": [
        "### Conditions\n",
        "#### Indentation and if statement\n",
        "Python uses indentation for blocks, instead of curly braces. Both tabs and spaces are supported"
      ]
    },
    {
      "cell_type": "code",
      "metadata": {
        "id": "iSWSnebIxDZN",
        "colab_type": "code",
        "colab": {}
      },
      "source": [
        "x = 1\n",
        "if x == 1:\n",
        "    # indented four spaces\n",
        "    print(\"x is 1.\")\n",
        "else:\n",
        "    print(\"x is not 1.\")"
      ],
      "execution_count": 0,
      "outputs": []
    },
    {
      "cell_type": "code",
      "metadata": {
        "id": "Ha5dCi-9xDZT",
        "colab_type": "code",
        "colab": {}
      },
      "source": [
        "name = \"Varun\"\n",
        "age = 23\n",
        "if name == \"Varun\" and age == 23:\n",
        "    print(\"Your name is Varun, and you are also 23 years old.\")\n",
        "if name == \"Varun\" or name == \"Amir\":\n",
        "    print(\"Your name is either Varun or Amir.\")"
      ],
      "execution_count": 0,
      "outputs": []
    },
    {
      "cell_type": "code",
      "metadata": {
        "id": "esPGFzsfxDZd",
        "colab_type": "code",
        "colab": {}
      },
      "source": [
        "name = \"John\"\n",
        "if name in [\"John\", \"Rick\"]:\n",
        "    print(\"Your name is either John or Rick.\")"
      ],
      "execution_count": 0,
      "outputs": []
    },
    {
      "cell_type": "markdown",
      "metadata": {
        "id": "BjJkblc6xDZk",
        "colab_type": "text"
      },
      "source": [
        "### Not\n",
        "Using \"not\" before a boolean expression inverts it:"
      ]
    },
    {
      "cell_type": "code",
      "metadata": {
        "id": "WqXnqgMxxDZm",
        "colab_type": "code",
        "colab": {}
      },
      "source": [
        "print(not False) # Prints out True\n",
        "print((not False) == (False)) # Prints out False"
      ],
      "execution_count": 0,
      "outputs": []
    },
    {
      "cell_type": "markdown",
      "metadata": {
        "id": "HGbLLZB6140K",
        "colab_type": "text"
      },
      "source": [
        "### Loops"
      ]
    },
    {
      "cell_type": "markdown",
      "metadata": {
        "id": "fD59DmIVxDZp",
        "colab_type": "text"
      },
      "source": [
        "#### The \"for\" loop\n",
        "For loops iterate over a given sequence. Here is an example:"
      ]
    },
    {
      "cell_type": "code",
      "metadata": {
        "id": "4EeQEQTdxDZq",
        "colab_type": "code",
        "colab": {}
      },
      "source": [
        "primes = [2, 3, 5, 7]\n",
        "for prime in primes:\n",
        "    print(prime)"
      ],
      "execution_count": 0,
      "outputs": []
    },
    {
      "cell_type": "code",
      "metadata": {
        "id": "Or6k1BrmxDZt",
        "colab_type": "code",
        "colab": {}
      },
      "source": [
        "primes = [2, 3, 5, 7]\n",
        "for prime in primes:\n",
        "    print(prime, end=' ')"
      ],
      "execution_count": 0,
      "outputs": []
    },
    {
      "cell_type": "markdown",
      "metadata": {
        "id": "Lus4mGWzxDZz",
        "colab_type": "text"
      },
      "source": [
        "For loops can iterate over a sequence of numbers using the \"range\""
      ]
    },
    {
      "cell_type": "code",
      "metadata": {
        "id": "OG2qPO2nxDZ0",
        "colab_type": "code",
        "colab": {}
      },
      "source": [
        "# Prints out the numbers 0,1,2,3,4\n",
        "for x in range(5):\n",
        "    print(x,end=' ')\n",
        "print(\"\\n\")\n",
        "\n",
        "# Prints out 3,4,5\n",
        "for x in range(3, 6):\n",
        "    print(x,end=' ')\n",
        "print(\"\\n\")\n",
        "\n",
        "# Prints out 3,5,7\n",
        "for x in range(3, 8, 2):\n",
        "    print(x,end=' ')"
      ],
      "execution_count": 0,
      "outputs": []
    },
    {
      "cell_type": "markdown",
      "metadata": {
        "id": "eyMih-tUxDZ3",
        "colab_type": "text"
      },
      "source": [
        "#### For loop with Enumerate\n",
        "It's helpful if you want to loop over an interator, and also want to have an index counter available."
      ]
    },
    {
      "cell_type": "code",
      "metadata": {
        "id": "gUw7NWimxDZ4",
        "colab_type": "code",
        "colab": {}
      },
      "source": [
        "for item in enumerate([\"a\", \"b\", \"c\"]):\n",
        "    print(item)"
      ],
      "execution_count": 0,
      "outputs": []
    },
    {
      "cell_type": "markdown",
      "metadata": {
        "id": "EiE46duOxDZ6",
        "colab_type": "text"
      },
      "source": [
        "#### Start index from some other value"
      ]
    },
    {
      "cell_type": "code",
      "metadata": {
        "id": "dvWq-aL0xDZ7",
        "colab_type": "code",
        "colab": {}
      },
      "source": [
        "for item in enumerate([\"a\", \"b\", \"c\"],2):\n",
        "    print(item)"
      ],
      "execution_count": 0,
      "outputs": []
    },
    {
      "cell_type": "markdown",
      "metadata": {
        "id": "Kbp8YdIyxDZ-",
        "colab_type": "text"
      },
      "source": [
        "#### The \"while\" loop\n",
        "While loops repeat as long as a certain boolean condition is met. For example:"
      ]
    },
    {
      "cell_type": "code",
      "metadata": {
        "id": "MmRO1yP1xDZ_",
        "colab_type": "code",
        "colab": {}
      },
      "source": [
        "# Prints out 0,1,2,3,4\n",
        "\n",
        "count = 0\n",
        "while count < 5:\n",
        "    print(count)\n",
        "    count += 1  # This is the same as count = count + 1"
      ],
      "execution_count": 0,
      "outputs": []
    },
    {
      "cell_type": "markdown",
      "metadata": {
        "id": "IXFfSge6xDaC",
        "colab_type": "text"
      },
      "source": [
        "#### \"break\" and \"continue\" statements\n",
        "Break is used to exit a for loop or a while loop, whereas continue is used to skip the current block, and return to the \"for\" or \"while\" statement. A few examples"
      ]
    },
    {
      "cell_type": "code",
      "metadata": {
        "id": "t6pQeoSZxDaD",
        "colab_type": "code",
        "colab": {}
      },
      "source": [
        "# Prints out 0,1,2,3,4\n",
        "\n",
        "count = 0\n",
        "while True:\n",
        "    print(count)\n",
        "    count += 1\n",
        "    if count >= 5:\n",
        "        break\n",
        "\n",
        "# Prints out only odd numbers - 1,3,5,7,9\n",
        "for x in range(10):\n",
        "    # Check if x is even\n",
        "    if x % 2 == 0:\n",
        "        continue\n",
        "    print(x)"
      ],
      "execution_count": 0,
      "outputs": []
    },
    {
      "cell_type": "markdown",
      "metadata": {
        "collapsed": true,
        "id": "otzbItfjxDaK",
        "colab_type": "text"
      },
      "source": [
        "### Functions\n",
        "How do you write functions in Python?\n"
      ]
    },
    {
      "cell_type": "code",
      "metadata": {
        "id": "9-KCtx1-xDaL",
        "colab_type": "code",
        "colab": {}
      },
      "source": [
        "# Define our 3 functions\n",
        "def my_function():\n",
        "    print(\"Hello From My Function!\")\n",
        "\n",
        "def my_function_with_args(username, greeting):\n",
        "    print(\"Hello, %s , From My Function!, I wish you %s\"%(username, greeting))\n",
        "\n",
        "def sum_two_numbers(a, b):\n",
        "    return a + b\n",
        "\n",
        "# print(a simple greeting)\n",
        "my_function()\n",
        "\n",
        "#prints - \"Hello, John Doe, From My Function!, I wish you a great year!\"\n",
        "my_function_with_args(\"John Doe\", \"a great year!\")\n",
        "\n",
        "# after this line x will hold the value 3!\n",
        "x = sum_two_numbers(1,2)"
      ],
      "execution_count": 0,
      "outputs": []
    },
    {
      "cell_type": "markdown",
      "metadata": {
        "id": "ScPriU2hxDaP",
        "colab_type": "text"
      },
      "source": [
        "### Classes and Objects\n",
        "Objects are an encapsulation of variables and functions into a single entity. Objects get their variables and functions from classes"
      ]
    },
    {
      "cell_type": "code",
      "metadata": {
        "id": "Uer1rtqVxDaP",
        "colab_type": "code",
        "colab": {}
      },
      "source": [
        "class MyClass:\n",
        "    variable = \"blah\"\n",
        "\n",
        "    def function(self):\n",
        "        return(\"This is a message inside the class.\")\n",
        "\n",
        "myobjectx = MyClass()\n",
        "\n",
        "print(myobjectx.variable)\n",
        "print(myobjectx.function())"
      ],
      "execution_count": 0,
      "outputs": []
    },
    {
      "cell_type": "markdown",
      "metadata": {
        "id": "mpsO8x_MxDaS",
        "colab_type": "text"
      },
      "source": [
        "### init, private and public\n",
        "The `__init__` method gets called when memory for the object is allocated:\n",
        "\n",
        "With ._ and .__ we can change the public variable and func. to protected and private variable and func.\n",
        "\n",
        "**private** - only available to be accessed within the class that defines them.\n",
        "\n",
        "**protected** - accessible in the class that defines them and in other classes which inherit from that class."
      ]
    },
    {
      "cell_type": "code",
      "metadata": {
        "id": "1f9Bi_7SxDaT",
        "colab_type": "code",
        "colab": {}
      },
      "source": [
        "class Car:\n",
        "    maxspeed = 0\n",
        "    name = \"\"\n",
        "\n",
        "    def __init__(self,a,b):\n",
        "        self.maxspeed = a\n",
        "        self.name = b\n",
        "\n",
        "    def drive(self):\n",
        "        print('driving. maxspeed ' + str(self.maxspeed))\n",
        "\n",
        "\n",
        "redcar = Car(120,\"pride\")\n",
        "print(\"maxspeed is=>\",redcar.maxspeed)\n",
        "redcar.drive()\n",
        "\n",
        "redcar.maxspeed = 10  # will not change variable because its private\n",
        "redcar.drive()"
      ],
      "execution_count": 0,
      "outputs": []
    },
    {
      "cell_type": "code",
      "metadata": {
        "id": "F86n449iHXHT",
        "colab_type": "code",
        "colab": {}
      },
      "source": [
        "class PP:\n",
        "   def __init__(self, name, alias):\n",
        "      self.name = name       # public\n",
        "      self.__alias = alias   # private\n",
        "\n",
        "   def who(self):\n",
        "      print('name  : ', self.name)\n",
        "      print('alias : ', self.__alias)\n",
        "\n",
        "   def __foo(self):          # private method\n",
        "      print('This is private method')\n",
        "\n",
        "   def foo(self):            # public method\n",
        "      print('This is public method')\n",
        "      self.__foo()\n",
        "\n",
        "P2 =  PP(\"amir\", \"varun\")\n",
        "\n",
        "P2.foo()\n",
        "print(\"#################\")\n",
        "# P2.__foo()\n",
        "print(\"#################\")\n",
        "P2.who()"
      ],
      "execution_count": 0,
      "outputs": []
    },
    {
      "cell_type": "markdown",
      "metadata": {
        "id": "ta0wczO9xDaW",
        "colab_type": "text"
      },
      "source": [
        "### setter and getter"
      ]
    },
    {
      "cell_type": "code",
      "metadata": {
        "id": "gDcpEVt6xDaX",
        "colab_type": "code",
        "colab": {}
      },
      "source": [
        "class Car:\n",
        "    __maxspeed = 0\n",
        "    __name = \"\"\n",
        "\n",
        "    def __init__(self):\n",
        "        self.__maxspeed = 200\n",
        "        self.__name = \"Supercar\"\n",
        "\n",
        "    def drive(self):\n",
        "        print('driving. maxspeed ',(self.__maxspeed))\n",
        "\n",
        "    def setMaxSpeed(self, speed):\n",
        "        self.__maxspeed = speed\n",
        "\n",
        "\n",
        "redcar = Car()\n",
        "redcar.drive()\n",
        "redcar.setMaxSpeed(320)\n",
        "redcar.drive()"
      ],
      "execution_count": 0,
      "outputs": []
    },
    {
      "cell_type": "markdown",
      "metadata": {
        "id": "Z_2OhsB28jDl",
        "colab_type": "text"
      },
      "source": [
        "### Generators\n",
        "\n",
        "Generator Expressions are an interesting feature in Python, which allow us to create generated iterable objects. If your data doesn’t fit in memory, they may be the solution.\n",
        "\n"
      ]
    },
    {
      "cell_type": "code",
      "metadata": {
        "id": "GcDEeKx2BX4r",
        "colab_type": "code",
        "colab": {}
      },
      "source": [
        "# Data = [1,2,3,4,5,6]\n",
        "def beerDataGenerator():\n",
        "    file = \"/content/sample_data/recipeData.csv\"\n",
        "    for row in open(file, encoding=\"ISO-8859-1\"):\n",
        "#     for row in Data:\n",
        "      yield row\n",
        "     \n",
        "beer = beerDataGenerator()\n",
        "print(beer)\n",
        "print(next(beer))\n",
        "print(\"______________________\")\n",
        "\n",
        "counter = 0\n",
        "for x in beer:\n",
        "  if counter is 5:\n",
        "    break\n",
        "    \n",
        "  print(x)\n",
        "  \n",
        "  counter += 1"
      ],
      "execution_count": 0,
      "outputs": []
    },
    {
      "cell_type": "markdown",
      "metadata": {
        "id": "_9mhVQDnBt67",
        "colab_type": "text"
      },
      "source": [
        "or you can make the generator by inline coding that is provided by python"
      ]
    },
    {
      "cell_type": "code",
      "metadata": {
        "id": "nQvoR7HYBsv0",
        "colab_type": "code",
        "colab": {}
      },
      "source": [
        "Data = [1,2,3,4,5,6]\n",
        "beer = (x for x in Data)\n",
        "print(next(beer))\n",
        "print(\"______________________\")\n",
        "\n",
        "for x in beer:\n",
        "  print(x)"
      ],
      "execution_count": 0,
      "outputs": []
    },
    {
      "cell_type": "markdown",
      "metadata": {
        "collapsed": true,
        "id": "xn_kyOnbxDaa",
        "colab_type": "text"
      },
      "source": [
        "### Modules and Packages"
      ]
    },
    {
      "cell_type": "code",
      "metadata": {
        "id": "QYz0DktNxDab",
        "colab_type": "code",
        "colab": {}
      },
      "source": [
        "import numpy as np\n",
        "\n",
        "print(np.array([1,1,1]))"
      ],
      "execution_count": 0,
      "outputs": []
    },
    {
      "cell_type": "markdown",
      "metadata": {
        "id": "qKK6cL_uxDad",
        "colab_type": "text"
      },
      "source": [
        "If we create a directory called foo, which marks the package name, we can then create a module inside that package called bar"
      ]
    },
    {
      "cell_type": "code",
      "metadata": {
        "id": "YtFQ7j4-xDae",
        "colab_type": "code",
        "colab": {}
      },
      "source": [
        "import foo.bar\n",
        "#or\n",
        "from foo import bar"
      ],
      "execution_count": 0,
      "outputs": []
    },
    {
      "cell_type": "markdown",
      "metadata": {
        "id": "16o3eVHFDUCY",
        "colab_type": "text"
      },
      "source": [
        "If you want to import everything within a module or package:"
      ]
    },
    {
      "cell_type": "code",
      "metadata": {
        "id": "TBLfJMGdDjh-",
        "colab_type": "code",
        "colab": {}
      },
      "source": [
        "from sklearn import *\n",
        "\n",
        "# or\n",
        "\n",
        "from foo import *"
      ],
      "execution_count": 0,
      "outputs": []
    },
    {
      "cell_type": "markdown",
      "metadata": {
        "id": "qoZDLIRKQpP5",
        "colab_type": "text"
      },
      "source": [
        "# Numpy\n",
        "\n"
      ]
    },
    {
      "cell_type": "markdown",
      "metadata": {
        "id": "ZfEsIed4Ky2X",
        "colab_type": "text"
      },
      "source": [
        "## Why NumPy?\n",
        "* **Lists** in Python are **too slow** to operate on.\n",
        "* **Parallelization** in Python is **not possible** (yet!) due to the GIL (Global Interpreter Lock).\n",
        "* NumPy has several **inbuilt operations and functions**, optimized for **performance**.\n",
        "* Several higher level packages like **Pandas** and **Tensorflow** are **based on NumPy**.\n",
        "\n",
        "\n",
        "\n"
      ]
    },
    {
      "cell_type": "markdown",
      "metadata": {
        "id": "_KpPcLdZLTew",
        "colab_type": "text"
      },
      "source": [
        "## What is NumPy?\n",
        "\n",
        "* NumPy is the **fundamental package for scientific computing** with Python.\n",
        "* Provides **efficient multi-dimensional container** of generic data.\n",
        "* Provides an **interface to C,C++, and Fortron** for **faster computation**. \n",
        "* Open-sourced package!"
      ]
    },
    {
      "cell_type": "markdown",
      "metadata": {
        "id": "Yh6OrMU4LeCB",
        "colab_type": "text"
      },
      "source": [
        "## PYTHON IS TOO SLOW FOR LARGER DATASETS!!! \n",
        "### This is a common misconception."
      ]
    },
    {
      "cell_type": "markdown",
      "metadata": {
        "id": "KM6eLu5WLq2g",
        "colab_type": "text"
      },
      "source": [
        "## Example of NumPy in action\n",
        "\n",
        "We know who and what this is?\n",
        "![Katie Bouman with the picture of the blackhole](https://www.analyticsindiamag.com/wp-content/uploads/2019/04/katbouman.jpg)\n",
        "\n",
        "* **5PB** of raw data was processed.\n",
        "  * **625 x WD 8TB Easystore**.\n",
        "  * That weighs **632.5 kgs**!\n",
        "  * So much data that it can be weighed!\n",
        "* NumPy and its related functions were extensively used.\n",
        "  * Other packages like SciPy, Pandas and Matplotlib were also used.\n"
      ]
    },
    {
      "cell_type": "markdown",
      "metadata": {
        "id": "-RmlQ-3NMajm",
        "colab_type": "text"
      },
      "source": [
        "## Motivated enough? Let’s get started.\n"
      ]
    },
    {
      "cell_type": "markdown",
      "metadata": {
        "id": "MgyPTFF5NYXM",
        "colab_type": "text"
      },
      "source": [
        "In this tutorial, you will:\n",
        "* Learn how to create NumPy Arrays.\n",
        "* Learn how to create and manipulate matrices.\n",
        "* Learn about the basic operations with NumPy.\n",
        "* Learn how to use arrays on the harddisk.\n",
        "* Learn about helper functions from SciPy.\n",
        "* Compare Numpy operations against Python lists.\n"
      ]
    },
    {
      "cell_type": "markdown",
      "metadata": {
        "id": "0-hJJaPBNwU1",
        "colab_type": "text"
      },
      "source": [
        "## Installing NumPy"
      ]
    },
    {
      "cell_type": "code",
      "metadata": {
        "id": "5HnS3-HXVSLl",
        "colab_type": "code",
        "outputId": "dd153003-476c-4d80-cd57-193ce33c6820",
        "colab": {
          "base_uri": "https://localhost:8080/",
          "height": 50
        }
      },
      "source": [
        "!pip install numpy scipy"
      ],
      "execution_count": 0,
      "outputs": [
        {
          "output_type": "stream",
          "text": [
            "Requirement already satisfied: numpy in /usr/local/lib/python3.6/dist-packages (1.16.5)\n",
            "Requirement already satisfied: scipy in /usr/local/lib/python3.6/dist-packages (1.3.1)\n"
          ],
          "name": "stdout"
        }
      ]
    },
    {
      "cell_type": "markdown",
      "metadata": {
        "id": "YW3uV_IuhXew",
        "colab_type": "text"
      },
      "source": [
        "## Creating Numpy Arrays"
      ]
    },
    {
      "cell_type": "markdown",
      "metadata": {
        "id": "mkvWAv_MOCGN",
        "colab_type": "text"
      },
      "source": [
        "###Creating NumPy Arrays\n",
        "\n",
        "* import numpy as np\n",
        "* Take a list, and apply “np.array” on it."
      ]
    },
    {
      "cell_type": "code",
      "metadata": {
        "id": "P9xy7LUxhHX2",
        "colab_type": "code",
        "colab": {}
      },
      "source": [
        "import numpy as np "
      ],
      "execution_count": 0,
      "outputs": []
    },
    {
      "cell_type": "code",
      "metadata": {
        "id": "sGs6Sf-khnHR",
        "colab_type": "code",
        "colab": {}
      },
      "source": [
        "lst = [1, 2, 3, 4, 5]\n",
        "array = np.array(lst)"
      ],
      "execution_count": 0,
      "outputs": []
    },
    {
      "cell_type": "code",
      "metadata": {
        "id": "zFRypSl4iB6h",
        "colab_type": "code",
        "outputId": "1dec03f9-b605-461e-df1d-1f56ae454466",
        "colab": {
          "base_uri": "https://localhost:8080/",
          "height": 67
        }
      },
      "source": [
        "print(array, type(array), array.shape, sep = \"\\n\")"
      ],
      "execution_count": 0,
      "outputs": [
        {
          "output_type": "stream",
          "text": [
            "[1 2 3 4 5]\n",
            "<class 'numpy.ndarray'>\n",
            "(5,)\n"
          ],
          "name": "stdout"
        }
      ]
    },
    {
      "cell_type": "code",
      "metadata": {
        "id": "2X0wYD_pi-UX",
        "colab_type": "code",
        "colab": {}
      },
      "source": [
        "array = np.array(lst, dtype = np.uint8)"
      ],
      "execution_count": 0,
      "outputs": []
    },
    {
      "cell_type": "code",
      "metadata": {
        "id": "EcvzQ3BQoACJ",
        "colab_type": "code",
        "outputId": "50066f43-d49f-4db9-aba4-a3e2d943de3b",
        "colab": {
          "base_uri": "https://localhost:8080/",
          "height": 67
        }
      },
      "source": [
        "print(array, type(array), array.shape, sep = \"\\n\")"
      ],
      "execution_count": 0,
      "outputs": [
        {
          "output_type": "stream",
          "text": [
            "[1 2 3 4 5]\n",
            "<class 'numpy.ndarray'>\n",
            "(5,)\n"
          ],
          "name": "stdout"
        }
      ]
    },
    {
      "cell_type": "markdown",
      "metadata": {
        "id": "J17cNdwfPlvO",
        "colab_type": "text"
      },
      "source": [
        "### NumPy Arrays to Python list\n",
        "\n",
        "* \\<array\\>.tolist()"
      ]
    },
    {
      "cell_type": "code",
      "metadata": {
        "id": "Vd0xv_zvPxpO",
        "colab_type": "code",
        "outputId": "bc52a1d7-8d36-4c97-9153-2b749fb43cf7",
        "colab": {
          "base_uri": "https://localhost:8080/",
          "height": 34
        }
      },
      "source": [
        "lst = array.tolist()\n",
        "print(lst)"
      ],
      "execution_count": 0,
      "outputs": [
        {
          "output_type": "stream",
          "text": [
            "[1, 2, 3, 4, 5]\n"
          ],
          "name": "stdout"
        }
      ]
    },
    {
      "cell_type": "markdown",
      "metadata": {
        "id": "4bS5zOoYP5GX",
        "colab_type": "text"
      },
      "source": [
        "### NumPy Datatypes\n",
        "\n",
        "* Integer type\n",
        "  * int8, int16, int32, int64\n",
        "* Unsigned Integer type\n",
        "  * uint8, uint16, uint32, uint64\n",
        "* Floating-point type\n",
        "  * float16, float32, float64, float128\n",
        "* Complex type\n",
        "  * complex64, complex128, complex256\n",
        "* Boolean type\n",
        "  * bool\n"
      ]
    },
    {
      "cell_type": "markdown",
      "metadata": {
        "id": "mjiLXheQizLV",
        "colab_type": "text"
      },
      "source": [
        "### Different operations to create NumPy arrays"
      ]
    },
    {
      "cell_type": "code",
      "metadata": {
        "id": "yZB4_gSgiynA",
        "colab_type": "code",
        "colab": {}
      },
      "source": [
        "random_array = np.random.rand(5) # 'rand' gives only positive values between 0 and 1\n",
        "print(random_array)"
      ],
      "execution_count": 0,
      "outputs": []
    },
    {
      "cell_type": "code",
      "metadata": {
        "id": "6GhEPomQiqI-",
        "colab_type": "code",
        "colab": {}
      },
      "source": [
        "random_array = np.random.randn(5) # 'randn' gives both positive and negative values between -1 and 1\n",
        "print(random_array)"
      ],
      "execution_count": 0,
      "outputs": []
    },
    {
      "cell_type": "code",
      "metadata": {
        "id": "PfIzAByOo7Hv",
        "colab_type": "code",
        "colab": {}
      },
      "source": [
        "zeros_array = np.zeros(5)\n",
        "print(zeros_array)"
      ],
      "execution_count": 0,
      "outputs": []
    },
    {
      "cell_type": "code",
      "metadata": {
        "id": "ayucknchpBVx",
        "colab_type": "code",
        "colab": {}
      },
      "source": [
        "ones_array = np.ones(5)\n",
        "print(ones_array)"
      ],
      "execution_count": 0,
      "outputs": []
    },
    {
      "cell_type": "code",
      "metadata": {
        "id": "i1aMEl-PpSW-",
        "colab_type": "code",
        "colab": {}
      },
      "source": [
        "range_array = np.arange(5)\n",
        "print(range_array)\n",
        "range_array = np.arange(0, 5)\n",
        "print(range_array)\n",
        "range_array = np.arange(0, 5, 1)\n",
        "print(range_array)"
      ],
      "execution_count": 0,
      "outputs": []
    },
    {
      "cell_type": "code",
      "metadata": {
        "id": "_-Y9ZS5xphai",
        "colab_type": "code",
        "colab": {}
      },
      "source": [
        "range_array = np.arange(0, 5, 0.1) # Can specify a floating point as step value\n",
        "print(range_array)"
      ],
      "execution_count": 0,
      "outputs": []
    },
    {
      "cell_type": "code",
      "metadata": {
        "id": "qKVl2sdoplW9",
        "colab_type": "code",
        "colab": {}
      },
      "source": [
        "range_list = range(0, 5, 0.1) # Will this work?"
      ],
      "execution_count": 0,
      "outputs": []
    },
    {
      "cell_type": "markdown",
      "metadata": {
        "id": "DrGam8rjz6fB",
        "colab_type": "text"
      },
      "source": [
        "### Timing"
      ]
    },
    {
      "cell_type": "code",
      "metadata": {
        "id": "Yxky3XlB0U7t",
        "colab_type": "code",
        "colab": {}
      },
      "source": [
        "from timeit import timeit"
      ],
      "execution_count": 0,
      "outputs": []
    },
    {
      "cell_type": "code",
      "metadata": {
        "id": "pU-7GVlEz_Cj",
        "colab_type": "code",
        "colab": {}
      },
      "source": [
        "lst_creation = '''\n",
        "list(range(1000))\n",
        "'''\n",
        "\n",
        "array_creation = '''\n",
        "np.arange(1000)\n",
        "'''"
      ],
      "execution_count": 0,
      "outputs": []
    },
    {
      "cell_type": "code",
      "metadata": {
        "id": "8APYREBy0l4O",
        "colab_type": "code",
        "colab": {}
      },
      "source": [
        "lst_creation_time = timeit(setup = \"\", stmt = lst_creation, number = 10000) / 10000\n",
        "array_creation_time = timeit(setup = \"import numpy as np\", stmt = array_creation, number = 10000) / 10000"
      ],
      "execution_count": 0,
      "outputs": []
    },
    {
      "cell_type": "code",
      "metadata": {
        "id": "yyNIiaEL0nQJ",
        "colab_type": "code",
        "outputId": "f68901bd-45d1-4647-b578-2a2eea5b3ec7",
        "colab": {
          "base_uri": "https://localhost:8080/",
          "height": 50
        }
      },
      "source": [
        "print(\"Time to create a list:\", lst_creation_time)\n",
        "print(\"Time to create a array:\", array_creation_time)"
      ],
      "execution_count": 0,
      "outputs": [
        {
          "output_type": "stream",
          "text": [
            "Time to create a list: 1.4764135000001488e-05\n",
            "Time to create a array: 1.375313700000902e-06\n"
          ],
          "name": "stdout"
        }
      ]
    },
    {
      "cell_type": "markdown",
      "metadata": {
        "id": "KK6aucNB38Ed",
        "colab_type": "text"
      },
      "source": [
        "### Space"
      ]
    },
    {
      "cell_type": "code",
      "metadata": {
        "id": "_JBag2RX4CBg",
        "colab_type": "code",
        "colab": {}
      },
      "source": [
        "from sys import getsizeof"
      ],
      "execution_count": 0,
      "outputs": []
    },
    {
      "cell_type": "code",
      "metadata": {
        "id": "_3ye8JfF4Gdp",
        "colab_type": "code",
        "colab": {}
      },
      "source": [
        "lst = list(range(1000))\n",
        "array = np.arange(1000)"
      ],
      "execution_count": 0,
      "outputs": []
    },
    {
      "cell_type": "code",
      "metadata": {
        "id": "LRow6F6v4Oj1",
        "colab_type": "code",
        "colab": {}
      },
      "source": [
        "print(\"Size occupied by list:\", getsizeof(lst))\n",
        "print(\"Size occupied by array:\", getsizeof(array))"
      ],
      "execution_count": 0,
      "outputs": []
    },
    {
      "cell_type": "code",
      "metadata": {
        "id": "MxxOMCDa4aY3",
        "colab_type": "code",
        "colab": {}
      },
      "source": [
        "short_array = np.arange(1000, dtype = np.uint8)\n",
        "print(\"Size occupied by array of short ints:\", getsizeof(short_array))"
      ],
      "execution_count": 0,
      "outputs": []
    },
    {
      "cell_type": "markdown",
      "metadata": {
        "id": "Xyro2VEg6Q3j",
        "colab_type": "text"
      },
      "source": [
        "### Note!\n",
        "\n",
        "All variables in Python are references.\n",
        "A variable used to refer a NumPy array acts like a C-pointer to the array."
      ]
    },
    {
      "cell_type": "code",
      "metadata": {
        "id": "gCPMnsIr6QAb",
        "colab_type": "code",
        "colab": {}
      },
      "source": [
        "array = np.arange(10)\n",
        "print(array)"
      ],
      "execution_count": 0,
      "outputs": []
    },
    {
      "cell_type": "code",
      "metadata": {
        "id": "DeQOffZM6aOE",
        "colab_type": "code",
        "colab": {}
      },
      "source": [
        "new_array = array\n",
        "new_array[5] = -1"
      ],
      "execution_count": 0,
      "outputs": []
    },
    {
      "cell_type": "code",
      "metadata": {
        "id": "hj2hcQkA6jNi",
        "colab_type": "code",
        "colab": {}
      },
      "source": [
        "print(array, new_array, sep = \"\\n\")"
      ],
      "execution_count": 0,
      "outputs": []
    },
    {
      "cell_type": "markdown",
      "metadata": {
        "id": "dI1PvkmYRMTD",
        "colab_type": "text"
      },
      "source": [
        "To avoid this common mistake, make a copy of the array if required."
      ]
    },
    {
      "cell_type": "code",
      "metadata": {
        "id": "g3fdRuKR6olh",
        "colab_type": "code",
        "colab": {}
      },
      "source": [
        "array = np.arange(10)\n",
        "new_array = array.copy()\n",
        "new_array[5] = -1"
      ],
      "execution_count": 0,
      "outputs": []
    },
    {
      "cell_type": "code",
      "metadata": {
        "id": "BkqbExaP6z3_",
        "colab_type": "code",
        "colab": {}
      },
      "source": [
        "print(array, new_array, sep = \"\\n\")"
      ],
      "execution_count": 0,
      "outputs": []
    },
    {
      "cell_type": "code",
      "metadata": {
        "id": "pwZfJ0Zh7tb6",
        "colab_type": "code",
        "colab": {}
      },
      "source": [
        "array = np.arange(10)\n",
        "new_array = np.copy(array)\n",
        "new_array[5] = -1"
      ],
      "execution_count": 0,
      "outputs": []
    },
    {
      "cell_type": "code",
      "metadata": {
        "id": "Qy1RDe6H7xaU",
        "colab_type": "code",
        "colab": {}
      },
      "source": [
        "print(array, new_array, sep = \"\\n\")"
      ],
      "execution_count": 0,
      "outputs": []
    },
    {
      "cell_type": "markdown",
      "metadata": {
        "colab_type": "text",
        "id": "1WYIWt-pzFQX"
      },
      "source": [
        "## How to create matrices?\n",
        "\n",
        "* np.random.rand(\\<rows\\>, \\<cols\\>)\n",
        "* np.random.randn(\\<rows\\>, \\<cols\\>)\n",
        "* np.ones((\\<rows\\>, \\<cols\\>))\n",
        "  * Notice that the shape is given inside as a tuple.\n",
        "* np.zeros((\\<rows\\>, \\<cols\\>))\n",
        "  * Notice that the shape is given inside as a tuple.\n",
        "* np.eye(\\<rows\\>, \\<cols?\\>)\n",
        "  * Notice that the 'cols' argument is optional. It may be useful to create a non-square identity matrix.\n",
        "\n",
        "Could use **np.matrix** class to create a matrix if you require matrix specific functions."
      ]
    },
    {
      "cell_type": "code",
      "metadata": {
        "id": "D41Zr9L6zLyl",
        "colab_type": "code",
        "colab": {}
      },
      "source": [
        "lst_matrix = [[1, 2, 3], [4, 5, 6], [7, 8, 9]]\n",
        "numpy_matrix = np.array(lst_matrix)"
      ],
      "execution_count": 0,
      "outputs": []
    },
    {
      "cell_type": "code",
      "metadata": {
        "colab_type": "code",
        "id": "2xj4dPZd1Xr-",
        "colab": {}
      },
      "source": [
        "print(numpy_matrix, type(numpy_matrix), numpy_matrix.shape, sep = \"\\n\")"
      ],
      "execution_count": 0,
      "outputs": []
    },
    {
      "cell_type": "code",
      "metadata": {
        "id": "DJSlnD7L2V_9",
        "colab_type": "code",
        "colab": {}
      },
      "source": [
        "random_matrix = np.random.rand(5, 5)\n",
        "print(random_matrix)"
      ],
      "execution_count": 0,
      "outputs": []
    },
    {
      "cell_type": "code",
      "metadata": {
        "id": "frcXkfk62hYF",
        "colab_type": "code",
        "colab": {}
      },
      "source": [
        "random_matrix = np.random.randn(5, 5)\n",
        "print(random_matrix)"
      ],
      "execution_count": 0,
      "outputs": []
    },
    {
      "cell_type": "code",
      "metadata": {
        "id": "SQaDRBtc2knC",
        "colab_type": "code",
        "colab": {}
      },
      "source": [
        "zeros_matrix = np.zeros((5, 5)) # Notice that the shape is in a tuple\n",
        "print(zeros_matrix)"
      ],
      "execution_count": 0,
      "outputs": []
    },
    {
      "cell_type": "code",
      "metadata": {
        "id": "S94rh_6J2sil",
        "colab_type": "code",
        "colab": {}
      },
      "source": [
        "ones_matrix = np.ones((5, 5)) # Notice that the shape is in a tuple"
      ],
      "execution_count": 0,
      "outputs": []
    },
    {
      "cell_type": "code",
      "metadata": {
        "id": "4nvu47oy2wvd",
        "colab_type": "code",
        "colab": {}
      },
      "source": [
        "identity_matrix = np.eye(5)\n",
        "print(identity_matrix)"
      ],
      "execution_count": 0,
      "outputs": []
    },
    {
      "cell_type": "code",
      "metadata": {
        "id": "uVzwD2093D5P",
        "colab_type": "code",
        "colab": {}
      },
      "source": [
        "not_a_square_identity_matrix = np.eye(5, 10)\n",
        "print(not_a_square_identity_matrix)"
      ],
      "execution_count": 0,
      "outputs": []
    },
    {
      "cell_type": "markdown",
      "metadata": {
        "id": "NKhwG-Us_RCe",
        "colab_type": "text"
      },
      "source": [
        "### Space"
      ]
    },
    {
      "cell_type": "code",
      "metadata": {
        "id": "hJcGV3Fp_S8E",
        "colab_type": "code",
        "colab": {}
      },
      "source": [
        "zeros_lst = [[0]*100]*100\n",
        "zeros_array = np.zeros((100, 100))"
      ],
      "execution_count": 0,
      "outputs": []
    },
    {
      "cell_type": "code",
      "metadata": {
        "id": "UgFtM4k-_nkZ",
        "colab_type": "code",
        "colab": {}
      },
      "source": [
        "print(\"Size of lists of zeros:\", getsizeof(zeros_lst))\n",
        "print(\"Size of matrix of zeros:\", getsizeof(zeros_array))"
      ],
      "execution_count": 0,
      "outputs": []
    },
    {
      "cell_type": "code",
      "metadata": {
        "id": "rt5lPIQrALpb",
        "colab_type": "code",
        "colab": {}
      },
      "source": [
        "zeros_array = np.zeros((100, 100), dtype = np.bool)\n",
        "print(\"Size of matrix of zeros:\", getsizeof(zeros_array))"
      ],
      "execution_count": 0,
      "outputs": []
    },
    {
      "cell_type": "markdown",
      "metadata": {
        "id": "GeUfsmF652Tq",
        "colab_type": "text"
      },
      "source": [
        "## Manipulating a matrix"
      ]
    },
    {
      "cell_type": "code",
      "metadata": {
        "id": "b0hEzXvI55Lw",
        "colab_type": "code",
        "outputId": "7618a8de-0551-4a7d-fa5d-e5968bd08af1",
        "colab": {
          "base_uri": "https://localhost:8080/",
          "height": 101
        }
      },
      "source": [
        "matrix = np.eye(5)\n",
        "print(matrix, matrix.shape)"
      ],
      "execution_count": 0,
      "outputs": [
        {
          "output_type": "stream",
          "text": [
            "[[1. 0. 0. 0. 0.]\n",
            " [0. 1. 0. 0. 0.]\n",
            " [0. 0. 1. 0. 0.]\n",
            " [0. 0. 0. 1. 0.]\n",
            " [0. 0. 0. 0. 1.]] (5, 5)\n"
          ],
          "name": "stdout"
        }
      ]
    },
    {
      "cell_type": "markdown",
      "metadata": {
        "id": "7loUwZvI7FAs",
        "colab_type": "text"
      },
      "source": [
        "### Selecting row(s)"
      ]
    },
    {
      "cell_type": "code",
      "metadata": {
        "id": "AVtdwrSi6GCE",
        "colab_type": "code",
        "outputId": "66415558-7929-4c9a-84ce-1955dacd3b67",
        "colab": {
          "base_uri": "https://localhost:8080/",
          "height": 34
        }
      },
      "source": [
        "print(matrix[0])"
      ],
      "execution_count": 0,
      "outputs": [
        {
          "output_type": "stream",
          "text": [
            "[1. 0. 0. 0. 0.]\n"
          ],
          "name": "stdout"
        }
      ]
    },
    {
      "cell_type": "code",
      "metadata": {
        "id": "e-9KZUxt7OQQ",
        "colab_type": "code",
        "colab": {}
      },
      "source": [
        "print(matrix[[0, 2, 4]])"
      ],
      "execution_count": 0,
      "outputs": []
    },
    {
      "cell_type": "code",
      "metadata": {
        "id": "XhAGCZql7WR6",
        "colab_type": "code",
        "colab": {}
      },
      "source": [
        "print(matrix[0:5:2])"
      ],
      "execution_count": 0,
      "outputs": []
    },
    {
      "cell_type": "code",
      "metadata": {
        "id": "5cEpHom-7maY",
        "colab_type": "code",
        "colab": {}
      },
      "source": [
        "print(matrix[0:5:2])"
      ],
      "execution_count": 0,
      "outputs": []
    },
    {
      "cell_type": "code",
      "metadata": {
        "id": "3jZ_1RSh8z8U",
        "colab_type": "code",
        "colab": {}
      },
      "source": [
        "print(matrix[::2])"
      ],
      "execution_count": 0,
      "outputs": []
    },
    {
      "cell_type": "markdown",
      "metadata": {
        "id": "T-sYTNff9Jan",
        "colab_type": "text"
      },
      "source": [
        "### Selecting column(s)"
      ]
    },
    {
      "cell_type": "code",
      "metadata": {
        "id": "ik5hXmJZ9Iqq",
        "colab_type": "code",
        "colab": {}
      },
      "source": [
        "print(matrix[:][3])"
      ],
      "execution_count": 0,
      "outputs": []
    },
    {
      "cell_type": "code",
      "metadata": {
        "id": "P8w8ztiO9bil",
        "colab_type": "code",
        "colab": {}
      },
      "source": [
        "print(matrix[:, 3])"
      ],
      "execution_count": 0,
      "outputs": []
    },
    {
      "cell_type": "code",
      "metadata": {
        "id": "YnYv7mEO9hKE",
        "colab_type": "code",
        "colab": {}
      },
      "source": [
        "print(matrix[:, [0, 1, 3]])"
      ],
      "execution_count": 0,
      "outputs": []
    },
    {
      "cell_type": "code",
      "metadata": {
        "id": "ppE5qjhv9rnm",
        "colab_type": "code",
        "colab": {}
      },
      "source": [
        "print(matrix[:, ::3])"
      ],
      "execution_count": 0,
      "outputs": []
    },
    {
      "cell_type": "markdown",
      "metadata": {
        "id": "aWyjBD0J-fuX",
        "colab_type": "text"
      },
      "source": [
        "## N-Dimensional Arrays\n",
        "\n",
        "![alt text](https://qph.fs.quoracdn.net/main-qimg-f2ba860ca2ff06c7a719c6965f6d77ff)\n",
        "\n",
        "* No more ‘rows’ and ‘cols’. \n",
        "* Think of it as axes of the array.\n",
        "  * Shape = (axis = 0, axis = 1, axis = 2, ...)\n"
      ]
    },
    {
      "cell_type": "code",
      "metadata": {
        "id": "uncbRoalBeHI",
        "colab_type": "code",
        "colab": {}
      },
      "source": [
        "fourD_array = np.random.randn(3, 4, 5, 6)\n",
        "print(fourD_array, fourD_array.shape)"
      ],
      "execution_count": 0,
      "outputs": []
    },
    {
      "cell_type": "code",
      "metadata": {
        "id": "VPyFzI2tBr7k",
        "colab_type": "code",
        "colab": {}
      },
      "source": [
        "print(fourD_array[fourD_array > 0])"
      ],
      "execution_count": 0,
      "outputs": []
    },
    {
      "cell_type": "markdown",
      "metadata": {
        "id": "SYErxMMqS07B",
        "colab_type": "text"
      },
      "source": [
        "`fourD_array > 0` creates a boolean multi-dimensional array, and values that correspond to `True` are selected."
      ]
    },
    {
      "cell_type": "code",
      "metadata": {
        "id": "osGopNU9C2tH",
        "colab_type": "code",
        "colab": {}
      },
      "source": [
        "print(fourD_array[-1, fourD_array[-1] > 0])"
      ],
      "execution_count": 0,
      "outputs": []
    },
    {
      "cell_type": "code",
      "metadata": {
        "id": "ZNzQn_a-DIBU",
        "colab_type": "code",
        "colab": {}
      },
      "source": [
        "print(fourD_array[0, -2, fourD_array[0, -2] > 0])"
      ],
      "execution_count": 0,
      "outputs": []
    },
    {
      "cell_type": "code",
      "metadata": {
        "id": "M5Mi64HsEZq-",
        "colab_type": "code",
        "colab": {}
      },
      "source": [
        "fourD_array[fourD_array < 0] = 0\n",
        "print(fourD_array)"
      ],
      "execution_count": 0,
      "outputs": []
    },
    {
      "cell_type": "markdown",
      "metadata": {
        "id": "MD-HaBb_GEUd",
        "colab_type": "text"
      },
      "source": [
        "## Operations"
      ]
    },
    {
      "cell_type": "markdown",
      "metadata": {
        "id": "kFceJJ3DVezp",
        "colab_type": "text"
      },
      "source": [
        "### Basic Operations\n",
        "\n",
        "* Math\n",
        "  * Trigonometric\n",
        "    * np.sin, np.cos, np.tan, np.arcsin, np.arccos, np.arctan\n",
        "  * Angle\n",
        "    * np.deg2rad, np.rad2deg\n",
        "  * Hyperbolic \n",
        "    * np.sinh, np.cosh, np.tanh, np.arcsinh, np.arccosh, np.arctanh\n",
        "  * Logarithm\n",
        "    * np.log, np.log10, np.log2\n",
        "  * Exponential\n",
        "    * np.exp, np.exp2\n",
        "* Element Wise Operations\n",
        "    * np.add: ‘+’\n",
        "    * np.multiply: ‘*’\n",
        "    * np.subtract: ‘-’\n",
        "    * np.divide: ‘/’\n",
        "    * np.power: ‘**’\n",
        "    * np.reciprocal: ‘1/\\<array\\>’ or ‘\\<array\\> ** -1’ \n",
        "\n",
        "  (Can perform element wise operations using scalar or vectors (n-dim arrays) as long as shapes are matched.)"
      ]
    },
    {
      "cell_type": "code",
      "metadata": {
        "id": "goSLC3YGGD8N",
        "colab_type": "code",
        "outputId": "b7798603-1e59-43a5-d1f9-aba7c829569c",
        "colab": {
          "base_uri": "https://localhost:8080/",
          "height": 101
        }
      },
      "source": [
        "matrix = np.eye(5)\n",
        "print(matrix)"
      ],
      "execution_count": 0,
      "outputs": [
        {
          "output_type": "stream",
          "text": [
            "[[1. 0. 0. 0. 0.]\n",
            " [0. 1. 0. 0. 0.]\n",
            " [0. 0. 1. 0. 0.]\n",
            " [0. 0. 0. 1. 0.]\n",
            " [0. 0. 0. 0. 1.]]\n"
          ],
          "name": "stdout"
        }
      ]
    },
    {
      "cell_type": "code",
      "metadata": {
        "id": "1ycEewiHGVVi",
        "colab_type": "code",
        "outputId": "56c04573-617a-4a82-d566-7c469317c245",
        "colab": {
          "base_uri": "https://localhost:8080/",
          "height": 101
        }
      },
      "source": [
        "matrix = matrix + 1\n",
        "print(matrix)"
      ],
      "execution_count": 0,
      "outputs": [
        {
          "output_type": "stream",
          "text": [
            "[[2. 1. 1. 1. 1.]\n",
            " [1. 2. 1. 1. 1.]\n",
            " [1. 1. 2. 1. 1.]\n",
            " [1. 1. 1. 2. 1.]\n",
            " [1. 1. 1. 1. 2.]]\n"
          ],
          "name": "stdout"
        }
      ]
    },
    {
      "cell_type": "code",
      "metadata": {
        "id": "09pqiqE8Gd2N",
        "colab_type": "code",
        "outputId": "137cd1c7-e95f-4c69-c1cc-47c2a5fb57b6",
        "colab": {
          "base_uri": "https://localhost:8080/",
          "height": 101
        }
      },
      "source": [
        "matrix -= 1\n",
        "matrix *= 2\n",
        "print(matrix)"
      ],
      "execution_count": 0,
      "outputs": [
        {
          "output_type": "stream",
          "text": [
            "[[ 0. -2. -2. -2. -2.]\n",
            " [-2.  0. -2. -2. -2.]\n",
            " [-2. -2.  0. -2. -2.]\n",
            " [-2. -2. -2.  0. -2.]\n",
            " [-2. -2. -2. -2.  0.]]\n"
          ],
          "name": "stdout"
        }
      ]
    },
    {
      "cell_type": "markdown",
      "metadata": {
        "id": "ZeZIIVzhSKLY",
        "colab_type": "text"
      },
      "source": [
        "### Timing"
      ]
    },
    {
      "cell_type": "code",
      "metadata": {
        "id": "lhBjx26pGqe2",
        "colab_type": "code",
        "colab": {}
      },
      "source": [
        "lst_matrix_add_mul = '''\n",
        "lst_add_one = list(map(lambda row: list(map(lambda element: element + 1, row)), lst))\n",
        "lst_mul_two = list(map(lambda row: list(map(lambda element: element * 1, row)), lst_add_one))\n",
        "'''\n",
        "\n",
        "array_matrix_add_mul = '''\n",
        "array_add_one = array + 1\n",
        "array_mul_two = array_add_one * 2\n",
        "'''"
      ],
      "execution_count": 0,
      "outputs": []
    },
    {
      "cell_type": "code",
      "metadata": {
        "id": "6jVBUKCTTiZD",
        "colab_type": "code",
        "colab": {}
      },
      "source": [
        "lst_matrix_ops = timeit(setup = \"lst = [[0]*1000]*1000\", stmt = lst_matrix_add_mul, number = 30) / 30\n",
        "array_matrix_ops = timeit(setup = \"import numpy as np; array = np.zeros((1000, 1000))\", stmt = array_matrix_add_mul, number = 30) / 30"
      ],
      "execution_count": 0,
      "outputs": []
    },
    {
      "cell_type": "code",
      "metadata": {
        "id": "bz4aQPZnUBzt",
        "colab_type": "code",
        "colab": {}
      },
      "source": [
        "print(\"Time for list ops:\", lst_matrix_ops)\n",
        "print(\"Time for array ops:\", array_matrix_ops)"
      ],
      "execution_count": 0,
      "outputs": []
    },
    {
      "cell_type": "markdown",
      "metadata": {
        "id": "uS8t2AkWVca_",
        "colab_type": "text"
      },
      "source": [
        "### Operations across a dimension\n",
        "* N-Dimensional Operations\n",
        "  * np.mean\n",
        "  * np.median\n",
        "  * np.sum\n",
        "  * np.cumsum\n",
        "  * np.prod\n",
        "  * np.cumprod\n",
        "  * np.argmin\n",
        "  * np.argmax \n",
        "\n",
        "  (If an axis is not specified, it will work on the whole array.)\n"
      ]
    },
    {
      "cell_type": "code",
      "metadata": {
        "id": "-QCzHWjXVuhw",
        "colab_type": "code",
        "colab": {}
      },
      "source": [
        "matrix = np.random.randn(4, 5, 6)\n",
        "print(matrix, matrix.shape)"
      ],
      "execution_count": 0,
      "outputs": []
    },
    {
      "cell_type": "code",
      "metadata": {
        "id": "peFCQ5EgV-Hu",
        "colab_type": "code",
        "colab": {}
      },
      "source": [
        "mean_all_axes = np.mean(matrix)\n",
        "print(mean_all_axes, mean_all_axes.shape)"
      ],
      "execution_count": 0,
      "outputs": []
    },
    {
      "cell_type": "code",
      "metadata": {
        "id": "ax2ogqN8WKvU",
        "colab_type": "code",
        "colab": {}
      },
      "source": [
        "mean_all_axes = np.mean(matrix, keepdims = True)\n",
        "print(mean_all_axes, mean_all_axes.shape)"
      ],
      "execution_count": 0,
      "outputs": []
    },
    {
      "cell_type": "code",
      "metadata": {
        "id": "rabSLInCWUWV",
        "colab_type": "code",
        "colab": {}
      },
      "source": [
        "mean_axis_zero = np.mean(matrix, axis = 0)\n",
        "print(mean_axis_zero, mean_axis_zero.shape)"
      ],
      "execution_count": 0,
      "outputs": []
    },
    {
      "cell_type": "code",
      "metadata": {
        "id": "SzbLadizWdH1",
        "colab_type": "code",
        "colab": {}
      },
      "source": [
        "mean_axis_one = np.mean(matrix, axis = 1)\n",
        "print(mean_axis_one, mean_axis_one.shape)"
      ],
      "execution_count": 0,
      "outputs": []
    },
    {
      "cell_type": "code",
      "metadata": {
        "id": "6WlTxZufWrIH",
        "colab_type": "code",
        "colab": {}
      },
      "source": [
        "mean_axis_last = np.mean(matrix, axis = -1, keepdims = True)\n",
        "print(mean_axis_last, mean_axis_last.shape)"
      ],
      "execution_count": 0,
      "outputs": []
    },
    {
      "cell_type": "markdown",
      "metadata": {
        "id": "lo4rd1ClbujQ",
        "colab_type": "text"
      },
      "source": [
        "### Shape Operations\n",
        "\n",
        "* np.reshape\n",
        "  * Reshape the array to another shape as long as the number of elements match.\n",
        "  * '-1' can be used to allow NumPy to auto-detect the required size of the dimension.\n",
        "* np.expand_dims\n",
        "  * Adds a dimension to the array.\n",
        "* np.squeeze\n",
        "  * Removes redundant dimensions from the array.\n",
        "* np.ravel\n",
        "  * Flattens the array.\n"
      ]
    },
    {
      "cell_type": "code",
      "metadata": {
        "id": "ZfDDnLP_byjm",
        "colab_type": "code",
        "colab": {}
      },
      "source": [
        "array = np.arange(1000)\n",
        "print(array, array.shape)"
      ],
      "execution_count": 0,
      "outputs": []
    },
    {
      "cell_type": "code",
      "metadata": {
        "id": "TscSV083b83t",
        "colab_type": "code",
        "colab": {}
      },
      "source": [
        "oneD_array = np.expand_dims(array, axis = 1)\n",
        "print(oneD_array, oneD_array.shape)"
      ],
      "execution_count": 0,
      "outputs": []
    },
    {
      "cell_type": "code",
      "metadata": {
        "id": "gsQaGP1tcM_t",
        "colab_type": "code",
        "colab": {}
      },
      "source": [
        "twoD_array = np.reshape(array, (100, 10))\n",
        "print(twoD_array, twoD_array.shape)"
      ],
      "execution_count": 0,
      "outputs": []
    },
    {
      "cell_type": "code",
      "metadata": {
        "id": "f5Ggo9GFcf-d",
        "colab_type": "code",
        "colab": {}
      },
      "source": [
        "twoD_array = np.reshape(array, (-1, 10))\n",
        "print(twoD_array, twoD_array.shape)"
      ],
      "execution_count": 0,
      "outputs": []
    },
    {
      "cell_type": "code",
      "metadata": {
        "id": "_ofKNkIxclwN",
        "colab_type": "code",
        "colab": {}
      },
      "source": [
        "twoD_array = np.reshape(array, (100, -1))\n",
        "print(twoD_array, twoD_array.shape)"
      ],
      "execution_count": 0,
      "outputs": []
    },
    {
      "cell_type": "code",
      "metadata": {
        "id": "G9KaB9Rbcp5y",
        "colab_type": "code",
        "colab": {}
      },
      "source": [
        "threeD_array = np.reshape(array, (-1, 10, 10))\n",
        "print(threeD_array, threeD_array.shape)"
      ],
      "execution_count": 0,
      "outputs": []
    },
    {
      "cell_type": "code",
      "metadata": {
        "id": "j_iyQeHPc57c",
        "colab_type": "code",
        "colab": {}
      },
      "source": [
        "array = np.squeeze(oneD_array)\n",
        "print(array, array.shape)"
      ],
      "execution_count": 0,
      "outputs": []
    },
    {
      "cell_type": "code",
      "metadata": {
        "id": "1ErY1jYhdIvh",
        "colab_type": "code",
        "colab": {}
      },
      "source": [
        "array = np.ravel(threeD_array)\n",
        "print(array, array.shape)"
      ],
      "execution_count": 0,
      "outputs": []
    },
    {
      "cell_type": "markdown",
      "metadata": {
        "id": "XMy-IpO7eRDK",
        "colab_type": "text"
      },
      "source": [
        "### Concatenations\n",
        "\n",
        "* np.concatenate\n",
        "  * Join a sequence of arrays along an existing axis.\n",
        "* np.stack\n",
        "  * Join a sequence of arrays along an new axis.\n",
        "* np.hstack\n",
        "  * Adds a column to the matrix.\n",
        "* np.vstack\n",
        "  * Adds a rows to the matrix.\n",
        "* np.append\n",
        "  * Similar to list.append\n"
      ]
    },
    {
      "cell_type": "code",
      "metadata": {
        "id": "OnlgvQZjeQig",
        "colab_type": "code",
        "colab": {}
      },
      "source": [
        "matrix = np.random.randn(10, 5)\n",
        "print(matrix, matrix.shape)"
      ],
      "execution_count": 0,
      "outputs": []
    },
    {
      "cell_type": "code",
      "metadata": {
        "id": "MG9ijAArep4t",
        "colab_type": "code",
        "colab": {}
      },
      "source": [
        "row_to_add = np.random.randn(5)\n",
        "print(row_to_add, row_to_add.shape)"
      ],
      "execution_count": 0,
      "outputs": []
    },
    {
      "cell_type": "code",
      "metadata": {
        "id": "gy2-h1IfezLM",
        "colab_type": "code",
        "colab": {}
      },
      "source": [
        "new_matrix = np.concatenate([matrix, row_to_add], axis = 0) # Will this work?"
      ],
      "execution_count": 0,
      "outputs": []
    },
    {
      "cell_type": "code",
      "metadata": {
        "id": "i8GQnCqYfBFZ",
        "colab_type": "code",
        "colab": {}
      },
      "source": [
        "row_to_add = np.expand_dims(row_to_add, axis = 0)\n",
        "print(row_to_add, row_to_add.shape)"
      ],
      "execution_count": 0,
      "outputs": []
    },
    {
      "cell_type": "code",
      "metadata": {
        "id": "_Mc4VBAxfSce",
        "colab_type": "code",
        "colab": {}
      },
      "source": [
        "new_matrix = np.concatenate([matrix, row_to_add], axis = 0)\n",
        "print(new_matrix, new_matrix.shape)"
      ],
      "execution_count": 0,
      "outputs": []
    },
    {
      "cell_type": "code",
      "metadata": {
        "id": "nSDowQHDfXRq",
        "colab_type": "code",
        "colab": {}
      },
      "source": [
        "col_to_add = np.random.randn(11, 1)\n",
        "print(col_to_add, col_to_add.shape)"
      ],
      "execution_count": 0,
      "outputs": []
    },
    {
      "cell_type": "code",
      "metadata": {
        "id": "5fV_tP3Kfr0-",
        "colab_type": "code",
        "colab": {}
      },
      "source": [
        "newer_matrix = np.concatenate([new_matrix, col_to_add], axis = 1)\n",
        "print(newer_matrix, newer_matrix.shape)"
      ],
      "execution_count": 0,
      "outputs": []
    },
    {
      "cell_type": "code",
      "metadata": {
        "id": "RTpTC_lpgnw0",
        "colab_type": "code",
        "colab": {}
      },
      "source": [
        "matrix = np.random.randn(10, 5)\n",
        "row_to_add = np.random.randn(5)\n",
        "new_matrix = np.vstack([matrix, row_to_add])\n",
        "\n",
        "print(new_matrix, new_matrix.shape)"
      ],
      "execution_count": 0,
      "outputs": []
    },
    {
      "cell_type": "markdown",
      "metadata": {
        "id": "aoBBPBdhG0UR",
        "colab_type": "text"
      },
      "source": [
        "### Timing"
      ]
    },
    {
      "cell_type": "code",
      "metadata": {
        "id": "Z1I4XQIPG_UV",
        "colab_type": "code",
        "colab": {}
      },
      "source": [
        "list_appending = '''\n",
        "#lst = list(range(1000))\n",
        "lst.append(-1)\n",
        "'''\n",
        "\n",
        "array_appending = '''\n",
        "#array = np.arange(1000)\n",
        "array = np.append(array, -1)\n",
        "'''"
      ],
      "execution_count": 0,
      "outputs": []
    },
    {
      "cell_type": "code",
      "metadata": {
        "id": "t-15gI6dHWtm",
        "colab_type": "code",
        "colab": {}
      },
      "source": [
        "lst_append_ops = timeit(setup = \"lst = list(range(1000))\", stmt = list_appending, number = 10000) / 10000\n",
        "array_append_ops = timeit(setup = \"import numpy as np; array = np.arange(1000)\", stmt = array_appending, number = 10000) / 10000"
      ],
      "execution_count": 0,
      "outputs": []
    },
    {
      "cell_type": "code",
      "metadata": {
        "id": "lhX6SQ0Jj0lF",
        "colab_type": "code",
        "colab": {}
      },
      "source": [
        "print(\"Time for list appending ops:\", lst_append_ops)\n",
        "print(\"Time for array appending ops:\", array_append_ops)"
      ],
      "execution_count": 0,
      "outputs": []
    },
    {
      "cell_type": "markdown",
      "metadata": {
        "id": "Oo_4MVPMVpjt",
        "colab_type": "text"
      },
      "source": [
        "Do not append to a NumPy Array as it is very slow.\n",
        "\n",
        "Convert it to a list and then back to an array if required."
      ]
    },
    {
      "cell_type": "markdown",
      "metadata": {
        "id": "IjtitStcmBhv",
        "colab_type": "text"
      },
      "source": [
        "### Repeatations\n",
        "\n",
        "* np.repeat\n",
        "  * Repeats each element.\n",
        "* np.tile\n",
        "  * Lays arrays like tiles.\n"
      ]
    },
    {
      "cell_type": "code",
      "metadata": {
        "id": "BAUcqNGvmA5b",
        "colab_type": "code",
        "colab": {}
      },
      "source": [
        "array = np.arange(9)\n",
        "print(array, array.shape)"
      ],
      "execution_count": 0,
      "outputs": []
    },
    {
      "cell_type": "code",
      "metadata": {
        "id": "_caE1JkQmPP8",
        "colab_type": "code",
        "colab": {}
      },
      "source": [
        "new_array = np.repeat(array, repeats = 3)\n",
        "print(new_array, new_array.shape)"
      ],
      "execution_count": 0,
      "outputs": []
    },
    {
      "cell_type": "code",
      "metadata": {
        "id": "vIoDWLxQmyQw",
        "colab_type": "code",
        "colab": {}
      },
      "source": [
        "matrix = np.reshape(array, (3, 3))\n",
        "print(matrix, matrix.shape)"
      ],
      "execution_count": 0,
      "outputs": []
    },
    {
      "cell_type": "code",
      "metadata": {
        "id": "QKXKsQx6nK0H",
        "colab_type": "code",
        "colab": {}
      },
      "source": [
        "new_matrix = np.repeat(matrix, repeats = 3)\n",
        "print(new_matrix, new_matrix.shape)"
      ],
      "execution_count": 0,
      "outputs": []
    },
    {
      "cell_type": "markdown",
      "metadata": {
        "id": "0HIopsQfWGGn",
        "colab_type": "text"
      },
      "source": [
        "If you do not specify axis, it will flatten the array and apply the operation."
      ]
    },
    {
      "cell_type": "code",
      "metadata": {
        "id": "XDW2MPdmnac5",
        "colab_type": "code",
        "colab": {}
      },
      "source": [
        "new_matrix = np.repeat(matrix, repeats = 3, axis = 0)\n",
        "print(new_matrix, new_matrix.shape)"
      ],
      "execution_count": 0,
      "outputs": []
    },
    {
      "cell_type": "code",
      "metadata": {
        "id": "FkFOvGDznddh",
        "colab_type": "code",
        "colab": {}
      },
      "source": [
        "new_matrix = np.repeat(matrix, repeats = 3, axis = 1)\n",
        "print(new_matrix, new_matrix.shape)"
      ],
      "execution_count": 0,
      "outputs": []
    },
    {
      "cell_type": "code",
      "metadata": {
        "id": "3Rhd0_QtnhVA",
        "colab_type": "code",
        "colab": {}
      },
      "source": [
        "newer_matrix = np.tile(array, [9, 1])\n",
        "print(newer_matrix, newer_matrix.shape)"
      ],
      "execution_count": 0,
      "outputs": []
    },
    {
      "cell_type": "code",
      "metadata": {
        "id": "DDiemaCWn_x6",
        "colab_type": "code",
        "colab": {}
      },
      "source": [
        "newest_matrix = np.tile(newer_matrix, [1, 9])\n",
        "print(newest_matrix, newest_matrix.shape)"
      ],
      "execution_count": 0,
      "outputs": []
    },
    {
      "cell_type": "markdown",
      "metadata": {
        "id": "V3NXT9B5oKsC",
        "colab_type": "text"
      },
      "source": [
        "### Multiplications\n",
        "* Vector multiplication\n",
        "  * np.dot\n",
        "  * np.inner\n",
        "    * Generalized dot product.\n",
        "  * np.cross\n",
        "    * Will only work vectors of dimensions 2 and 3.\n",
        "  * np.outer\n",
        "* Matrix multiplication\n",
        "  * np.matmul\n"
      ]
    },
    {
      "cell_type": "code",
      "metadata": {
        "id": "kFl1x5l_oNfO",
        "colab_type": "code",
        "colab": {}
      },
      "source": [
        "vector1 = np.random.randn(3)\n",
        "vector2 = np.random.randn(3)\n",
        "\n",
        "print(vector1, vector1.shape)\n",
        "print(vector2, vector2.shape)"
      ],
      "execution_count": 0,
      "outputs": []
    },
    {
      "cell_type": "code",
      "metadata": {
        "id": "hX9tCePP_2nP",
        "colab_type": "code",
        "colab": {}
      },
      "source": [
        "dot_product = np.dot(vector1, vector2)\n",
        "print(dot_product, dot_product.shape)"
      ],
      "execution_count": 0,
      "outputs": []
    },
    {
      "cell_type": "code",
      "metadata": {
        "id": "srxNz7H5ABZT",
        "colab_type": "code",
        "colab": {}
      },
      "source": [
        "inner_product = np.inner(vector1, vector2)\n",
        "print(inner_product, inner_product.shape)"
      ],
      "execution_count": 0,
      "outputs": []
    },
    {
      "cell_type": "code",
      "metadata": {
        "id": "MYK2dWXhBVoM",
        "colab_type": "code",
        "colab": {}
      },
      "source": [
        "outer_product = np.outer(vector1, vector2)\n",
        "print(outer_product, outer_product.shape)"
      ],
      "execution_count": 0,
      "outputs": []
    },
    {
      "cell_type": "code",
      "metadata": {
        "id": "bBcJhIprB726",
        "colab_type": "code",
        "colab": {}
      },
      "source": [
        "cross_product = np.cross(vector1, vector2)\n",
        "print(cross_product, cross_product.shape)\n"
      ],
      "execution_count": 0,
      "outputs": []
    },
    {
      "cell_type": "code",
      "metadata": {
        "id": "BxCo5vutCjk3",
        "colab_type": "code",
        "colab": {}
      },
      "source": [
        "matrix1 = np.random.randn(3, 4)\n",
        "matrix2 = np.random.randn(4, 5)\n",
        "multiplied_matrices = np.matmul(matrix1, matrix2)\n",
        "\n",
        "print(multiplied_matrices, multiplied_matrices.shape)"
      ],
      "execution_count": 0,
      "outputs": []
    },
    {
      "cell_type": "markdown",
      "metadata": {
        "id": "2RZHNOgRDAdM",
        "colab_type": "text"
      },
      "source": [
        "### Timing"
      ]
    },
    {
      "cell_type": "code",
      "metadata": {
        "id": "ONQBGbszDCwE",
        "colab_type": "code",
        "colab": {}
      },
      "source": [
        "setup = '''\n",
        "ndims = 2500\n",
        "import numpy as np\n",
        "matrix1 = np.random.randn(ndims, ndims)\n",
        "matrix2 = np.random.randn(ndims, ndims)\n",
        "'''\n",
        "\n",
        "normal_matmul = '''\n",
        "answer = np.zeros((ndims, ndims))\n",
        "for i in range(ndims):\n",
        "  for j in range(ndims):\n",
        "    answer[i, j] = matrix1[i, j] * matrix1[j, i]\n",
        "'''\n",
        "\n",
        "vectorized_matmul = '''\n",
        "answer = np.matmul(matrix1, matrix2)\n",
        "'''"
      ],
      "execution_count": 0,
      "outputs": []
    },
    {
      "cell_type": "code",
      "metadata": {
        "id": "OswAxOnFFRNT",
        "colab_type": "code",
        "colab": {}
      },
      "source": [
        "normal_matmul_timing = timeit(setup = setup, stmt = normal_matmul, number = 1) \n",
        "vectorized_matmul_timing = timeit(setup = setup, stmt = vectorized_matmul, number = 1)"
      ],
      "execution_count": 0,
      "outputs": []
    },
    {
      "cell_type": "code",
      "metadata": {
        "id": "JCb0xzDUFvRZ",
        "colab_type": "code",
        "colab": {}
      },
      "source": [
        "print(\"Time for normal matmul:\", normal_matmul_timing)\n",
        "print(\"Time for vectorized matmul:\", vectorized_matmul_timing)"
      ],
      "execution_count": 0,
      "outputs": []
    },
    {
      "cell_type": "markdown",
      "metadata": {
        "id": "4zU0dqb_W1Rq",
        "colab_type": "text"
      },
      "source": [
        "## NumPy arrays on hard-disk\n",
        "\n",
        "### numpy.memmap\n",
        "* Creates a memory-map to an array stored in a binary file on disk.\n",
        "* Can be used to load and store very large datasets.\n",
        "  * Such as the 5PB data required to create the blackhole image.\n"
      ]
    },
    {
      "cell_type": "code",
      "metadata": {
        "id": "gw2uIWYBXd8b",
        "colab_type": "code",
        "colab": {}
      },
      "source": [
        "disk_array = np.memmap(filename = \"DiskArray.bin\", dtype = np.float128, mode = 'w+', shape = (100000, 100000))\n",
        "# use mode = 'r+' if it already exists."
      ],
      "execution_count": 0,
      "outputs": []
    },
    {
      "cell_type": "code",
      "metadata": {
        "id": "r1icJwTQX_wt",
        "colab_type": "code",
        "colab": {}
      },
      "source": [
        "print(disk_array, type(disk_array), disk_array.shape)"
      ],
      "execution_count": 0,
      "outputs": []
    },
    {
      "cell_type": "code",
      "metadata": {
        "id": "0xVKWDwoYNSu",
        "colab_type": "code",
        "colab": {}
      },
      "source": [
        "how_much_size_should_this_array_take = 100000 * 100000 * 128 / 8\n",
        "print(how_much_size_should_this_array_take / (1024 ** 3), \"GB\")"
      ],
      "execution_count": 0,
      "outputs": []
    },
    {
      "cell_type": "code",
      "metadata": {
        "id": "ZGtIBwYjYD2x",
        "colab_type": "code",
        "colab": {}
      },
      "source": [
        "print(getsizeof(disk_array), \"B\")"
      ],
      "execution_count": 0,
      "outputs": []
    },
    {
      "cell_type": "markdown",
      "metadata": {
        "id": "OmVctAbVZWZv",
        "colab_type": "text"
      },
      "source": [
        "### Storing information into the array"
      ]
    },
    {
      "cell_type": "code",
      "metadata": {
        "id": "jHJLqTMHYKXp",
        "colab_type": "code",
        "colab": {}
      },
      "source": [
        "disk_array[:, :5] = 1\n",
        "disk_array[:5, :] += 1\n",
        "print(disk_array)"
      ],
      "execution_count": 0,
      "outputs": []
    },
    {
      "cell_type": "markdown",
      "metadata": {
        "id": "LpE5JP1PaFYv",
        "colab_type": "text"
      },
      "source": [
        "### Retrieving from array"
      ]
    },
    {
      "cell_type": "code",
      "metadata": {
        "id": "FSkOtPvDZ9LZ",
        "colab_type": "code",
        "colab": {}
      },
      "source": [
        "array = disk_array[:5, :5]\n",
        "print(array, type(array))"
      ],
      "execution_count": 0,
      "outputs": []
    },
    {
      "cell_type": "markdown",
      "metadata": {
        "id": "9mqPoPM5bFUQ",
        "colab_type": "text"
      },
      "source": [
        "To retrieve information from the memmap, create an array on the ram (ndarray) and copy values to the array."
      ]
    },
    {
      "cell_type": "code",
      "metadata": {
        "id": "ladnMB2oaean",
        "colab_type": "code",
        "colab": {}
      },
      "source": [
        "ram_array = np.zeros((5, 5))\n",
        "ram_array[:, :] = disk_array[:5, :5]\n",
        "print(ram_array, type(ram_array))"
      ],
      "execution_count": 0,
      "outputs": []
    },
    {
      "cell_type": "markdown",
      "metadata": {
        "id": "eib2-yGhcthG",
        "colab_type": "text"
      },
      "source": [
        "## NumPy's Linear Algebra Module\n",
        "* np.linalg.norm\n",
        "  * Calculates euclidean distance.\n",
        "* np.linalg.lstsq\n",
        "  * Solves for least square solution.\n",
        "* np.linalg.pinv\n",
        "  * Gives pseudo-inverse solution for a matrix\n",
        "* np.linalg.svd\n",
        "  * Decomposes a matrix using SVD.\n",
        "* np.linalg.eigvals\n",
        "  * Returns eigenvalues for the matrix.\n",
        "* np.linalg.eig\n",
        "  * Returns eigenvalues and eigenvectors for the matrix.\n",
        "* np.linalg.det\n",
        "  * Return determinant for the matrix."
      ]
    },
    {
      "cell_type": "markdown",
      "metadata": {
        "id": "O8V1MkI8eTjU",
        "colab_type": "text"
      },
      "source": [
        "Find the euclidean distance between 2 lists of points."
      ]
    },
    {
      "cell_type": "code",
      "metadata": {
        "id": "YGvepRRPcs7m",
        "colab_type": "code",
        "colab": {}
      },
      "source": [
        "matrix1 = np.random.randn(20, 10)\n",
        "matrix2 = np.random.randn(20, 10)\n",
        "\n",
        "distance = np.linalg.norm(matrix1 - matrix2)\n",
        "print(distance, distance.shape)"
      ],
      "execution_count": 0,
      "outputs": []
    },
    {
      "cell_type": "markdown",
      "metadata": {
        "id": "WZwk_nXZe_3Y",
        "colab_type": "text"
      },
      "source": [
        "That doesn't seem right!"
      ]
    },
    {
      "cell_type": "code",
      "metadata": {
        "id": "3DMzFNTKe7ry",
        "colab_type": "code",
        "colab": {}
      },
      "source": [
        "distance = np.linalg.norm(matrix1 - matrix2, axis = 1)\n",
        "print(distance, distance.shape)"
      ],
      "execution_count": 0,
      "outputs": []
    },
    {
      "cell_type": "markdown",
      "metadata": {
        "id": "41jQ1y-GfGcw",
        "colab_type": "text"
      },
      "source": [
        "Much better!"
      ]
    },
    {
      "cell_type": "markdown",
      "metadata": {
        "id": "yVDAXXC_fJOA",
        "colab_type": "text"
      },
      "source": [
        "Find the euclidean distance between a vector and a list of points."
      ]
    },
    {
      "cell_type": "code",
      "metadata": {
        "id": "zTONdLfCfPBx",
        "colab_type": "code",
        "colab": {}
      },
      "source": [
        "vector = np.random.randn(10)\n",
        "matrix = np.random.randn(20, 10)\n",
        "\n",
        "distance = np.linalg.norm(vector - matrix, axis = 1)\n",
        "print(distance, distance.shape)"
      ],
      "execution_count": 0,
      "outputs": []
    },
    {
      "cell_type": "markdown",
      "metadata": {
        "id": "JInnNzFfgDTe",
        "colab_type": "text"
      },
      "source": [
        "## Saving and Loading an array"
      ]
    },
    {
      "cell_type": "code",
      "metadata": {
        "id": "JIR1rfIsgCtE",
        "colab_type": "code",
        "colab": {}
      },
      "source": [
        "array = np.random.randn(100, 100)\n",
        "print(array, array.shape)"
      ],
      "execution_count": 0,
      "outputs": []
    },
    {
      "cell_type": "code",
      "metadata": {
        "id": "SWvq3QUvgf34",
        "colab_type": "code",
        "colab": {}
      },
      "source": [
        "np.save(\"Array.npy\", array)"
      ],
      "execution_count": 0,
      "outputs": []
    },
    {
      "cell_type": "code",
      "metadata": {
        "id": "CFxxJesRglEC",
        "colab_type": "code",
        "colab": {}
      },
      "source": [
        "array = np.load(\"Array.npy\")\n",
        "print(array, array.shape)"
      ],
      "execution_count": 0,
      "outputs": []
    },
    {
      "cell_type": "markdown",
      "metadata": {
        "id": "NQ6VqtOGbhPQ",
        "colab_type": "text"
      },
      "source": [
        "## SciPy\n",
        "* A library that uses NumPy for more mathematical functions. \n",
        "* SciPy uses NumPy arrays as the basic data structure.\n",
        "* Comes with modules for various commonly used tasks for:\n",
        "  * Linear algebra\n",
        "  * Integration\n",
        "  * Ordinary differential equation solving\n",
        "  * Signal processing"
      ]
    },
    {
      "cell_type": "code",
      "metadata": {
        "id": "-SAMv09Dgwsf",
        "colab_type": "code",
        "colab": {}
      },
      "source": [
        "import scipy\n",
        "from scipy.sparse import bsr_matrix"
      ],
      "execution_count": 0,
      "outputs": []
    },
    {
      "cell_type": "markdown",
      "metadata": {
        "id": "W-IDUJKdeOy1",
        "colab_type": "text"
      },
      "source": [
        "### Compressing a matrix\n"
      ]
    },
    {
      "cell_type": "code",
      "metadata": {
        "id": "lEe9k1sUhq5P",
        "colab_type": "code",
        "colab": {}
      },
      "source": [
        "zeros_lst = [[0]*100]*100\n",
        "zeros_array = np.zeros((100, 100))\n",
        "print(\"Size of lists of zeros:\", getsizeof(zeros_lst))"
      ],
      "execution_count": 0,
      "outputs": []
    },
    {
      "cell_type": "code",
      "metadata": {
        "id": "njNqdM20h2Xs",
        "colab_type": "code",
        "colab": {}
      },
      "source": [
        "zeros_array = np.zeros((100, 100), dtype = np.bool)\n",
        "print(\"Size of matrix of zeros:\", getsizeof(zeros_array))"
      ],
      "execution_count": 0,
      "outputs": []
    },
    {
      "cell_type": "code",
      "metadata": {
        "id": "xpGo075Eh4H5",
        "colab_type": "code",
        "colab": {}
      },
      "source": [
        "compressed_zeros_array = bsr_matrix(zeros_array)\n",
        "print(\"Size of matrix of zeros:\", getsizeof(compressed_zeros_array))"
      ],
      "execution_count": 0,
      "outputs": []
    },
    {
      "cell_type": "code",
      "metadata": {
        "id": "u6dLtBPhiCSW",
        "colab_type": "code",
        "colab": {}
      },
      "source": [
        "big_zeros_array = np.zeros((10000, 10000), dtype = np.bool)\n",
        "compressed_big_zeros_array = bsr_matrix(big_zeros_array)\n",
        "print(\"Size of matrix of zeros:\", getsizeof(compressed_big_zeros_array))"
      ],
      "execution_count": 0,
      "outputs": []
    },
    {
      "cell_type": "markdown",
      "metadata": {
        "id": "-pw5tyX74t4m",
        "colab_type": "text"
      },
      "source": [
        "## Exercise\n",
        "\n",
        "Create a simple linear regression model to fit the prices of houses in boston. Find the training error and the testing error for your trained model.\n",
        "\n",
        "Link to the dataset: **`tinyurl.com/uofa-cmput366-numpyexercise`**"
      ]
    },
    {
      "cell_type": "code",
      "metadata": {
        "id": "LZCWIowQ5gRU",
        "colab_type": "code",
        "colab": {}
      },
      "source": [
        "import pickle\n",
        "import requests\n",
        "housing_data = open(\"BostonHousingDataset.pickle\", \"rb\")\n",
        "boston_housing = pickle.load(housing_data)\n",
        "\n",
        "train_x = boston_housing['train_x']\n",
        "train_y = boston_housing['train_y']\n",
        "test_x = boston_housing['test_x']\n",
        "test_y = boston_housing['test_y']"
      ],
      "execution_count": 0,
      "outputs": []
    },
    {
      "cell_type": "code",
      "metadata": {
        "id": "-Car9adx8NDE",
        "colab_type": "code",
        "colab": {}
      },
      "source": [
        "import numpy as np\n",
        "\n",
        "error = lambda predict, truth: np.mean(np.linalg.norm(predict - truth, axis = 1))\n",
        "normalize = lambda x: (x - x.min()) / (x.max() - x.min())"
      ],
      "execution_count": 0,
      "outputs": []
    },
    {
      "cell_type": "code",
      "metadata": {
        "id": "TF6S0s_KAYe7",
        "colab_type": "code",
        "colab": {}
      },
      "source": [
        "train_y = np.reshape(train_y, (-1, 1))\n",
        "test_y = np.reshape(test_y, (-1, 1))"
      ],
      "execution_count": 0,
      "outputs": []
    },
    {
      "cell_type": "code",
      "metadata": {
        "id": "-WCNw16X9T1K",
        "colab_type": "code",
        "colab": {}
      },
      "source": [
        "for i in range(train_x.shape[1]):\n",
        "  train_x[:, i] = normalize(train_x[:, i])\n",
        "train_y = normalize(train_y)\n",
        "\n",
        "for i in range(test_x.shape[1]):\n",
        "  test_x[:, i] = normalize(test_x[:, i])\n",
        "test_y = normalize(test_y)"
      ],
      "execution_count": 0,
      "outputs": []
    },
    {
      "cell_type": "code",
      "metadata": {
        "id": "qe_-jO6h9tXo",
        "colab_type": "code",
        "colab": {}
      },
      "source": [
        "train_x = np.concatenate([train_x, np.ones((train_x.shape[0], 1))], axis = 1)\n",
        "test_x = np.concatenate([test_x, np.ones((test_x.shape[0], 1))], axis = 1)"
      ],
      "execution_count": 0,
      "outputs": []
    },
    {
      "cell_type": "code",
      "metadata": {
        "id": "t0hoYIyI_DOS",
        "colab_type": "code",
        "colab": {}
      },
      "source": [
        "weights = np.matmul(np.linalg.pinv(train_x), train_y)"
      ],
      "execution_count": 0,
      "outputs": []
    },
    {
      "cell_type": "code",
      "metadata": {
        "id": "vuW1VMZT_lBT",
        "colab_type": "code",
        "colab": {}
      },
      "source": [
        "predict_y_from_train_x = np.matmul(train_x, weights)\n",
        "predict_y_from_test_x = np.matmul(test_x, weights)"
      ],
      "execution_count": 0,
      "outputs": []
    },
    {
      "cell_type": "code",
      "metadata": {
        "id": "at5EGEXT_446",
        "colab_type": "code",
        "outputId": "9be8c7dd-2fbf-4c5c-b818-4ef1cfdc164f",
        "colab": {
          "base_uri": "https://localhost:8080/",
          "height": 50
        }
      },
      "source": [
        "print(\"Train error:\", error(predict_y_from_train_x, train_y))\n",
        "print(\"Test error:\", error(predict_y_from_test_x, test_y))"
      ],
      "execution_count": 0,
      "outputs": [
        {
          "output_type": "stream",
          "text": [
            "Train error: 0.0744830905013679\n",
            "Test error: 0.10446747969565763\n"
          ],
          "name": "stdout"
        }
      ]
    },
    {
      "cell_type": "markdown",
      "metadata": {
        "id": "VEl2BsFXdEL1",
        "colab_type": "text"
      },
      "source": [
        "# Pandas"
      ]
    },
    {
      "cell_type": "markdown",
      "metadata": {
        "id": "x1gmgcdhwfHB",
        "colab_type": "text"
      },
      "source": [
        "[Pandas](https://pandas.pydata.org/) is an easy to use library that allows flexible control of smaller datasets. It is very convenient for reading in datasets and performing manipulations.\n",
        "\n"
      ]
    },
    {
      "cell_type": "code",
      "metadata": {
        "id": "ImFwfPYKsD5w",
        "colab_type": "code",
        "colab": {}
      },
      "source": [
        "import pandas as pd\n",
        "import numpy as np"
      ],
      "execution_count": 0,
      "outputs": []
    },
    {
      "cell_type": "markdown",
      "metadata": {
        "id": "bvz9y7jVzwgn",
        "colab_type": "text"
      },
      "source": [
        "Let's create a simple synthetic dataset."
      ]
    },
    {
      "cell_type": "code",
      "metadata": {
        "id": "l8iW_72X2Jbn",
        "colab_type": "code",
        "outputId": "6951a5b5-7a2e-4e25-d74e-36365bf3fca1",
        "colab": {
          "base_uri": "https://localhost:8080/",
          "height": 34
        }
      },
      "source": [
        "random_data = np.random.randint(0,10,(20,5))\n",
        "random_data.shape"
      ],
      "execution_count": 0,
      "outputs": [
        {
          "output_type": "execute_result",
          "data": {
            "text/plain": [
              "(20, 5)"
            ]
          },
          "metadata": {
            "tags": []
          },
          "execution_count": 12
        }
      ]
    },
    {
      "cell_type": "code",
      "metadata": {
        "id": "xWmwQIi72XXS",
        "colab_type": "code",
        "outputId": "46041aa2-990a-4432-eede-dadc9307e1da",
        "colab": {
          "base_uri": "https://localhost:8080/",
          "height": 343
        }
      },
      "source": [
        "df = pd.DataFrame(data=random_data,columns=['col1','col2','col3','col4','col5'])\n",
        "df.head(10)"
      ],
      "execution_count": 0,
      "outputs": [
        {
          "output_type": "execute_result",
          "data": {
            "text/html": [
              "<div>\n",
              "<style scoped>\n",
              "    .dataframe tbody tr th:only-of-type {\n",
              "        vertical-align: middle;\n",
              "    }\n",
              "\n",
              "    .dataframe tbody tr th {\n",
              "        vertical-align: top;\n",
              "    }\n",
              "\n",
              "    .dataframe thead th {\n",
              "        text-align: right;\n",
              "    }\n",
              "</style>\n",
              "<table border=\"1\" class=\"dataframe\">\n",
              "  <thead>\n",
              "    <tr style=\"text-align: right;\">\n",
              "      <th></th>\n",
              "      <th>col1</th>\n",
              "      <th>col2</th>\n",
              "      <th>col3</th>\n",
              "      <th>col4</th>\n",
              "      <th>col5</th>\n",
              "    </tr>\n",
              "  </thead>\n",
              "  <tbody>\n",
              "    <tr>\n",
              "      <th>0</th>\n",
              "      <td>6</td>\n",
              "      <td>7</td>\n",
              "      <td>9</td>\n",
              "      <td>0</td>\n",
              "      <td>7</td>\n",
              "    </tr>\n",
              "    <tr>\n",
              "      <th>1</th>\n",
              "      <td>1</td>\n",
              "      <td>9</td>\n",
              "      <td>6</td>\n",
              "      <td>6</td>\n",
              "      <td>7</td>\n",
              "    </tr>\n",
              "    <tr>\n",
              "      <th>2</th>\n",
              "      <td>8</td>\n",
              "      <td>0</td>\n",
              "      <td>6</td>\n",
              "      <td>4</td>\n",
              "      <td>4</td>\n",
              "    </tr>\n",
              "    <tr>\n",
              "      <th>3</th>\n",
              "      <td>8</td>\n",
              "      <td>1</td>\n",
              "      <td>0</td>\n",
              "      <td>5</td>\n",
              "      <td>3</td>\n",
              "    </tr>\n",
              "    <tr>\n",
              "      <th>4</th>\n",
              "      <td>1</td>\n",
              "      <td>8</td>\n",
              "      <td>0</td>\n",
              "      <td>9</td>\n",
              "      <td>0</td>\n",
              "    </tr>\n",
              "    <tr>\n",
              "      <th>5</th>\n",
              "      <td>0</td>\n",
              "      <td>4</td>\n",
              "      <td>2</td>\n",
              "      <td>2</td>\n",
              "      <td>6</td>\n",
              "    </tr>\n",
              "    <tr>\n",
              "      <th>6</th>\n",
              "      <td>3</td>\n",
              "      <td>9</td>\n",
              "      <td>8</td>\n",
              "      <td>8</td>\n",
              "      <td>9</td>\n",
              "    </tr>\n",
              "    <tr>\n",
              "      <th>7</th>\n",
              "      <td>5</td>\n",
              "      <td>2</td>\n",
              "      <td>4</td>\n",
              "      <td>6</td>\n",
              "      <td>6</td>\n",
              "    </tr>\n",
              "    <tr>\n",
              "      <th>8</th>\n",
              "      <td>6</td>\n",
              "      <td>0</td>\n",
              "      <td>6</td>\n",
              "      <td>2</td>\n",
              "      <td>7</td>\n",
              "    </tr>\n",
              "    <tr>\n",
              "      <th>9</th>\n",
              "      <td>5</td>\n",
              "      <td>9</td>\n",
              "      <td>6</td>\n",
              "      <td>9</td>\n",
              "      <td>2</td>\n",
              "    </tr>\n",
              "  </tbody>\n",
              "</table>\n",
              "</div>"
            ],
            "text/plain": [
              "   col1  col2  col3  col4  col5\n",
              "0     6     7     9     0     7\n",
              "1     1     9     6     6     7\n",
              "2     8     0     6     4     4\n",
              "3     8     1     0     5     3\n",
              "4     1     8     0     9     0\n",
              "5     0     4     2     2     6\n",
              "6     3     9     8     8     9\n",
              "7     5     2     4     6     6\n",
              "8     6     0     6     2     7\n",
              "9     5     9     6     9     2"
            ]
          },
          "metadata": {
            "tags": []
          },
          "execution_count": 13
        }
      ]
    },
    {
      "cell_type": "code",
      "metadata": {
        "id": "5V2WRR-F27Z1",
        "colab_type": "code",
        "outputId": "065e3f08-03f0-4cd6-dc9e-90b778ef6d4d",
        "colab": {
          "base_uri": "https://localhost:8080/",
          "height": 118
        }
      },
      "source": [
        "df.mean()"
      ],
      "execution_count": 0,
      "outputs": [
        {
          "output_type": "execute_result",
          "data": {
            "text/plain": [
              "col1    4.70\n",
              "col2    4.70\n",
              "col3    4.20\n",
              "col4    4.85\n",
              "col5    4.50\n",
              "dtype: float64"
            ]
          },
          "metadata": {
            "tags": []
          },
          "execution_count": 14
        }
      ]
    },
    {
      "cell_type": "code",
      "metadata": {
        "id": "iDkKlnKc3DaC",
        "colab_type": "code",
        "outputId": "30100c46-732a-4f63-a192-dd5609f704db",
        "colab": {
          "base_uri": "https://localhost:8080/",
          "height": 195
        }
      },
      "source": [
        "df.cov()"
      ],
      "execution_count": 0,
      "outputs": [
        {
          "output_type": "execute_result",
          "data": {
            "text/html": [
              "<div>\n",
              "<style scoped>\n",
              "    .dataframe tbody tr th:only-of-type {\n",
              "        vertical-align: middle;\n",
              "    }\n",
              "\n",
              "    .dataframe tbody tr th {\n",
              "        vertical-align: top;\n",
              "    }\n",
              "\n",
              "    .dataframe thead th {\n",
              "        text-align: right;\n",
              "    }\n",
              "</style>\n",
              "<table border=\"1\" class=\"dataframe\">\n",
              "  <thead>\n",
              "    <tr style=\"text-align: right;\">\n",
              "      <th></th>\n",
              "      <th>col1</th>\n",
              "      <th>col2</th>\n",
              "      <th>col3</th>\n",
              "      <th>col4</th>\n",
              "      <th>col5</th>\n",
              "    </tr>\n",
              "  </thead>\n",
              "  <tbody>\n",
              "    <tr>\n",
              "      <th>col1</th>\n",
              "      <td>8.642105</td>\n",
              "      <td>-1.778947</td>\n",
              "      <td>1.010526</td>\n",
              "      <td>3.110526</td>\n",
              "      <td>-0.157895</td>\n",
              "    </tr>\n",
              "    <tr>\n",
              "      <th>col2</th>\n",
              "      <td>-1.778947</td>\n",
              "      <td>12.221053</td>\n",
              "      <td>2.957895</td>\n",
              "      <td>4.584211</td>\n",
              "      <td>2.421053</td>\n",
              "    </tr>\n",
              "    <tr>\n",
              "      <th>col3</th>\n",
              "      <td>1.010526</td>\n",
              "      <td>2.957895</td>\n",
              "      <td>8.800000</td>\n",
              "      <td>0.400000</td>\n",
              "      <td>3.315789</td>\n",
              "    </tr>\n",
              "    <tr>\n",
              "      <th>col4</th>\n",
              "      <td>3.110526</td>\n",
              "      <td>4.584211</td>\n",
              "      <td>0.400000</td>\n",
              "      <td>10.450000</td>\n",
              "      <td>-1.394737</td>\n",
              "    </tr>\n",
              "    <tr>\n",
              "      <th>col5</th>\n",
              "      <td>-0.157895</td>\n",
              "      <td>2.421053</td>\n",
              "      <td>3.315789</td>\n",
              "      <td>-1.394737</td>\n",
              "      <td>7.631579</td>\n",
              "    </tr>\n",
              "  </tbody>\n",
              "</table>\n",
              "</div>"
            ],
            "text/plain": [
              "          col1       col2      col3       col4      col5\n",
              "col1  8.642105  -1.778947  1.010526   3.110526 -0.157895\n",
              "col2 -1.778947  12.221053  2.957895   4.584211  2.421053\n",
              "col3  1.010526   2.957895  8.800000   0.400000  3.315789\n",
              "col4  3.110526   4.584211  0.400000  10.450000 -1.394737\n",
              "col5 -0.157895   2.421053  3.315789  -1.394737  7.631579"
            ]
          },
          "metadata": {
            "tags": []
          },
          "execution_count": 15
        }
      ]
    },
    {
      "cell_type": "code",
      "metadata": {
        "id": "AHXcwY4e3Shj",
        "colab_type": "code",
        "outputId": "19ca49b4-f3af-408b-de3a-3fdda03c43f3",
        "colab": {
          "base_uri": "https://localhost:8080/",
          "height": 370
        }
      },
      "source": [
        "df['col6'] = (df['col1'] + df['col2'])*df['col3']\n",
        "df['col6']"
      ],
      "execution_count": 0,
      "outputs": [
        {
          "output_type": "execute_result",
          "data": {
            "text/plain": [
              "0     117\n",
              "1      60\n",
              "2      48\n",
              "3       0\n",
              "4       0\n",
              "5       8\n",
              "6      96\n",
              "7      28\n",
              "8      36\n",
              "9      84\n",
              "10     32\n",
              "11      8\n",
              "12     49\n",
              "13     36\n",
              "14     32\n",
              "15      5\n",
              "16     77\n",
              "17    135\n",
              "18      6\n",
              "19      8\n",
              "Name: col6, dtype: int64"
            ]
          },
          "metadata": {
            "tags": []
          },
          "execution_count": 16
        }
      ]
    },
    {
      "cell_type": "code",
      "metadata": {
        "id": "c0xdj8P64Kd2",
        "colab_type": "code",
        "colab": {}
      },
      "source": [
        "#applies an anonymous function across each column (since axis=0). This is nice when you have more complex functions\n",
        "df.apply(lambda x: x < 5,axis=0)\n",
        "# df < 5 # could also work since this is a simple expression and pandas will understand that you want to compare values. "
      ],
      "execution_count": 0,
      "outputs": []
    },
    {
      "cell_type": "code",
      "metadata": {
        "id": "H1hGGl-h4KmZ",
        "colab_type": "code",
        "colab": {}
      },
      "source": [
        "\n",
        "df.groupby('col1').agg('mean')\n",
        "#what this is saying is for the unique values in column 1, calculate the mean for other columns that have that unique value for column 1."
      ],
      "execution_count": 0,
      "outputs": []
    },
    {
      "cell_type": "code",
      "metadata": {
        "id": "lEtZo_Zu4KwE",
        "colab_type": "code",
        "colab": {}
      },
      "source": [
        ""
      ],
      "execution_count": 0,
      "outputs": []
    },
    {
      "cell_type": "markdown",
      "metadata": {
        "id": "VPg4DnuYDi1d",
        "colab_type": "text"
      },
      "source": [
        "## Do It Yourself"
      ]
    },
    {
      "cell_type": "markdown",
      "metadata": {
        "id": "zy6XAaF_Dpvg",
        "colab_type": "text"
      },
      "source": [
        "Go to the eClass and download thewinequality-red.csv file. This contains various attributes about wine and a quality rating by a wine expert.\n",
        "\n",
        "https://archive.ics.uci.edu/ml/datasets/wine"
      ]
    },
    {
      "cell_type": "markdown",
      "metadata": {
        "id": "GnrA7AuXEACx",
        "colab_type": "text"
      },
      "source": [
        "If you are using google colab, run the following code segment to upload the file. If you are using jupyter notebooks locally, then dont run the code segment and change the filepath name to suit where you saved the csv locally on your computer."
      ]
    },
    {
      "cell_type": "code",
      "metadata": {
        "id": "ozsXSk6Qro2f",
        "colab_type": "code",
        "colab": {}
      },
      "source": [
        "import io\n",
        "from google.colab import files\n",
        "uploaded = files.upload()"
      ],
      "execution_count": 0,
      "outputs": []
    },
    {
      "cell_type": "code",
      "metadata": {
        "id": "9dsPCie9rtYh",
        "colab_type": "code",
        "colab": {}
      },
      "source": [
        "df = pd.read_csv(io.BytesIO(uploaded['lab0-wine-data.csv']),sep=';')"
      ],
      "execution_count": 0,
      "outputs": []
    },
    {
      "cell_type": "code",
      "metadata": {
        "id": "jtd7MwvD7aXc",
        "colab_type": "code",
        "colab": {}
      },
      "source": [
        "#If you are using jupyter notebook, place the data in the same directory as pynb file and run this segment\n",
        "df = pd.read_csv('lab0-wine-data.csv',sep=';')"
      ],
      "execution_count": 0,
      "outputs": []
    },
    {
      "cell_type": "code",
      "metadata": {
        "id": "i-bn9SpRzY6d",
        "colab_type": "code",
        "outputId": "606f115c-cd9b-44da-c749-24fc409754a1",
        "colab": {
          "base_uri": "https://localhost:8080/",
          "height": 249
        }
      },
      "source": [
        "df.head()"
      ],
      "execution_count": 0,
      "outputs": [
      ]
    },
    {
      "cell_type": "code",
      "metadata": {
        "id": "xCyS4p2bvrzD",
        "colab_type": "code",
        "outputId": "27abccff-9dbe-4ab5-c711-72096594a4fd",
        "colab": {
          "base_uri": "https://localhost:8080/",
          "height": 67
        }
      },
      "source": [
        "#Print out the lowest, highest and average quality rating.\n",
        "quality = df[\"quality\"]\n",
        "print(quality.min())\n",
        "print(quality.mean_all_axes())\n",
        "print(quality.mean())"
      ],
      "execution_count": 0,
      "outputs": [
        {
          "output_type": "stream",
          "text": [
            "3\n",
            "8\n",
            "5.6360225140712945\n"
          ],
          "name": "stdout"
        }
      ]
    },
    {
      "cell_type": "markdown",
      "metadata": {
        "id": "5uLj6SVRmmte",
        "colab_type": "text"
      },
      "source": [
        "Now, let's look at the alcohol content of the wine. Print out the lowest, highest and average alcohol content of the wine.\n",
        "\n",
        "\n"
      ]
    },
    {
      "cell_type": "code",
      "metadata": {
        "id": "ClJjd-Egtgr7",
        "colab_type": "code",
        "outputId": "78b2581a-4b0a-4470-bc84-30fef8a29466",
        "colab": {
          "base_uri": "https://localhost:8080/",
          "height": 67
        }
      },
      "source": [
        "#Print out the lowest, highest and average alcogol content.\n",
        "alcohol = df[\"alcohol\"]\n",
        "print(alcohol.min())\n",
        "print(alcohol.max())\n",
        "print(alcohol.mean())"
      ],
      "execution_count": 0,
      "outputs": [
        {
          "output_type": "stream",
          "text": [
            "8.4\n",
            "14.9\n",
            "10.422983114446502\n"
          ],
          "name": "stdout"
        }
      ]
    },
    {
      "cell_type": "markdown",
      "metadata": {
        "id": "JkW6VkVnphs9",
        "colab_type": "text"
      },
      "source": [
        "Create a new feature that groups the alcohol content into 3 categories.\n",
        "\n",
        "Low: [8.4, 10)\n",
        "\n",
        "Medium: [10, 11)\n",
        "\n",
        "High: [11, inf)\n",
        "\n",
        "Use the df.apply function to do this."
      ]
    },
    {
      "cell_type": "code",
      "metadata": {
        "id": "3NK1hdqnp9z5",
        "colab_type": "code",
        "colab": {}
      },
      "source": [
        "#hint, it may be easier to define a python function and then  pass it in as an argument\n",
        "\n",
        "def get_alcohol_group(wine):\n",
        "  alcohol = wine[\"alcohol\"]\n",
        "  if alcohol < 8.4:\n",
        "    return None\n",
        "  elif alcohol >= 8.4 and alcohol < 10:\n",
        "    return \"Low\"\n",
        "  elif alcohol < 11:\n",
        "    return \"Medium\"\n",
        "  return \"High\"\n",
        "  \n",
        "df['alcohol_group'] = df.apply(get_alcohol_group, axis=1)"
      ],
      "execution_count": 0,
      "outputs": []
    },
    {
      "cell_type": "markdown",
      "metadata": {
        "id": "2I5zWqs-qlu5",
        "colab_type": "text"
      },
      "source": [
        "Calculate the average quality rating conditioned on being part of one of the newly created 3 groups of alcohol content. Do you notice anything?"
      ]
    },
    {
      "cell_type": "code",
      "metadata": {
        "id": "h4MxzYOzsu2q",
        "colab_type": "code",
        "outputId": "b66c6e3b-c58f-48f5-b078-61a5670ef52b",
        "colab": {
          "base_uri": "https://localhost:8080/",
          "height": 151
        }
      },
      "source": [
        "# the aggregate function can take more than just a string as an argument\n",
        "groups = df.groupby(\"alcohol_group\")\n",
        "quality = avg_quality.agg([(\"quality\", \"mean\")])\n",
        "print(quality)"
      ],
      "execution_count": 0,
      "outputs": [
        {
          "output_type": "stream",
          "text": [
            "              fixed acidity volatile acidity  ...    alcohol   quality\n",
            "                    quality          quality  ...    quality   quality\n",
            "alcohol_group                                 ...                     \n",
            "High               8.168308         0.474143  ...  11.803176  6.141328\n",
            "Low                8.285588         0.563118  ...   9.478309  5.266176\n",
            "Medium             8.527212         0.530177  ...  10.418178  5.670354\n",
            "\n",
            "[3 rows x 12 columns]\n"
          ],
          "name": "stdout"
        }
      ]
    },
    {
      "cell_type": "markdown",
      "metadata": {
        "id": "u30q0Mdvwf8c",
        "colab_type": "text"
      },
      "source": [
        "Challenge Question: Come up with three reasonable buckets for the pH variable. Segment the data further by showing the average quality rating conditioned on the alcohol level group and the pH level group. Do you notice anything?"
      ]
    },
    {
      "cell_type": "code",
      "metadata": {
        "id": "Ieh-8TCkL8pC",
        "colab_type": "code",
        "outputId": "2a3ad9c8-6a19-443c-813e-56f7a69a07b4",
        "colab": {
          "base_uri": "https://localhost:8080/",
          "height": 1000
        }
      },
      "source": [
        "# hint: try finding the values that split the dataset into three roughly equal buckets based on pH content\n",
        "\n",
        "def find_ph_group(wine):\n",
        "  ph = wine[\"pH\"]\n",
        "  if ph < 3.30:\n",
        "    return \"Acidic\"\n",
        "  elif ph < 3.50:\n",
        "    return \"Slightly Acidic\"\n",
        "  return \"Basic\"\n",
        "\n",
        "df['pH_group'] = df.apply(find_ph_group, axis=1)"
      ],
      "execution_count": 0,
      "outputs": [
        {
          "output_type": "stream",
          "text": [
            "      fixed acidity  volatile acidity  ...  alcohol_group         pH_group\n",
            "0               7.4             0.700  ...            Low            Basic\n",
            "1               7.8             0.880  ...            Low           Acidic\n",
            "2               7.8             0.760  ...            Low           Acidic\n",
            "3              11.2             0.280  ...            Low           Acidic\n",
            "4               7.4             0.700  ...            Low            Basic\n",
            "5               7.4             0.660  ...            Low            Basic\n",
            "6               7.9             0.600  ...            Low  Slightly Acidic\n",
            "7               7.3             0.650  ...         Medium  Slightly Acidic\n",
            "8               7.8             0.580  ...            Low  Slightly Acidic\n",
            "9               7.5             0.500  ...         Medium  Slightly Acidic\n",
            "10              6.7             0.580  ...            Low           Acidic\n",
            "11              7.5             0.500  ...         Medium  Slightly Acidic\n",
            "12              5.6             0.615  ...            Low            Basic\n",
            "13              7.8             0.610  ...            Low           Acidic\n",
            "14              8.9             0.620  ...            Low           Acidic\n",
            "15              8.9             0.620  ...            Low           Acidic\n",
            "16              8.5             0.280  ...         Medium  Slightly Acidic\n",
            "17              8.1             0.560  ...            Low           Acidic\n",
            "18              7.4             0.590  ...            Low  Slightly Acidic\n",
            "19              7.9             0.320  ...            Low           Acidic\n",
            "20              8.9             0.220  ...            Low  Slightly Acidic\n",
            "21              7.6             0.390  ...            Low            Basic\n",
            "22              7.9             0.430  ...            Low           Acidic\n",
            "23              8.5             0.490  ...            Low           Acidic\n",
            "24              6.9             0.400  ...            Low  Slightly Acidic\n",
            "25              6.3             0.390  ...            Low  Slightly Acidic\n",
            "26              7.6             0.410  ...            Low           Acidic\n",
            "27              7.9             0.430  ...            Low           Acidic\n",
            "28              7.1             0.710  ...            Low  Slightly Acidic\n",
            "29              7.8             0.645  ...            Low  Slightly Acidic\n",
            "...             ...               ...  ...            ...              ...\n",
            "1569            6.2             0.510  ...           High  Slightly Acidic\n",
            "1570            6.4             0.360  ...           High  Slightly Acidic\n",
            "1571            6.4             0.380  ...           High  Slightly Acidic\n",
            "1572            7.3             0.690  ...            Low  Slightly Acidic\n",
            "1573            6.0             0.580  ...           High            Basic\n",
            "1574            5.6             0.310  ...         Medium  Slightly Acidic\n",
            "1575            7.5             0.520  ...           High           Acidic\n",
            "1576            8.0             0.300  ...         Medium  Slightly Acidic\n",
            "1577            6.2             0.700  ...           High            Basic\n",
            "1578            6.8             0.670  ...           High  Slightly Acidic\n",
            "1579            6.2             0.560  ...           High            Basic\n",
            "1580            7.4             0.350  ...           High  Slightly Acidic\n",
            "1581            6.2             0.560  ...           High            Basic\n",
            "1582            6.1             0.715  ...           High            Basic\n",
            "1583            6.2             0.460  ...            Low  Slightly Acidic\n",
            "1584            6.7             0.320  ...           High           Acidic\n",
            "1585            7.2             0.390  ...           High  Slightly Acidic\n",
            "1586            7.5             0.310  ...           High  Slightly Acidic\n",
            "1587            5.8             0.610  ...         Medium            Basic\n",
            "1588            7.2             0.660  ...           High           Acidic\n",
            "1589            6.6             0.725  ...            Low           Acidic\n",
            "1590            6.3             0.550  ...           High  Slightly Acidic\n",
            "1591            5.4             0.740  ...           High            Basic\n",
            "1592            6.3             0.510  ...           High  Slightly Acidic\n",
            "1593            6.8             0.620  ...            Low  Slightly Acidic\n",
            "1594            6.2             0.600  ...         Medium  Slightly Acidic\n",
            "1595            5.9             0.550  ...           High            Basic\n",
            "1596            6.3             0.510  ...           High  Slightly Acidic\n",
            "1597            5.9             0.645  ...         Medium            Basic\n",
            "1598            6.0             0.310  ...           High  Slightly Acidic\n",
            "\n",
            "[1599 rows x 14 columns]\n"
          ],
          "name": "stdout"
        }
      ]
    },
    {
      "cell_type": "code",
      "metadata": {
        "id": "IiQ8NzF_uZKx",
        "colab_type": "code",
        "outputId": "20fc81f9-1ffc-4d4a-b395-b25e3ff2e6e5",
        "colab": {
          "base_uri": "https://localhost:8080/",
          "height": 202
        }
      },
      "source": [
        "# hint: the aggregate function can calculate multiple things\n",
        "\n",
        "quality = df.groupby([\"alcohol_group\", \"pH_group\"]).agg([(\"quality\", \"mean\"), \"count\"])\n",
        "print(quality[\"quality\"])"
      ],
      "execution_count": 0,
      "outputs": [
        {
          "output_type": "stream",
          "text": [
            "                                quality  count\n",
            "alcohol_group pH_group                        \n",
            "High          Acidic           6.345745    188\n",
            "              Basic            5.821429     84\n",
            "              Slightly Acidic  6.082051    195\n",
            "Low           Acidic           5.274238    361\n",
            "              Basic            5.250000     56\n",
            "              Slightly Acidic  5.258555    263\n",
            "Medium        Acidic           5.796610    177\n",
            "              Basic            5.333333     42\n",
            "              Slightly Acidic  5.635193    233\n"
          ],
          "name": "stdout"
        }
      ]
    },
    {
      "cell_type": "markdown",
      "metadata": {
        "id": "elPiRthKdJ-_",
        "colab_type": "text"
      },
      "source": [
        "# Matplotlib\n",
        "\n"
      ]
    },
    {
      "cell_type": "markdown",
      "metadata": {
        "id": "MB2hbFiJ4SNM",
        "colab_type": "text"
      },
      "source": [
        "This section will teach you how you can use matplotlib to draw different kinds of plots. Let's get started!\n",
        "\n"
      ]
    },
    {
      "cell_type": "markdown",
      "metadata": {
        "id": "Gvz2gDt5Z0f6",
        "colab_type": "text"
      },
      "source": [
        "The image below shows the different parts of a figure in matplotlib.\n",
        "![alt text](https://matplotlib.org/3.1.1/_images/anatomy.png)"
      ]
    },
    {
      "cell_type": "markdown",
      "metadata": {
        "id": "GbW1Gg1Rcv93",
        "colab_type": "text"
      },
      "source": [
        "Line plot documentation example: https://matplotlib.org/3.1.0/api/_as_gen/matplotlib.pyplot.plot.html"
      ]
    },
    {
      "cell_type": "markdown",
      "metadata": {
        "id": "_-qBtD5XdhO7",
        "colab_type": "text"
      },
      "source": [
        "Using the matplotlib gallery:\n",
        "https://matplotlib.org/gallery/index.html"
      ]
    },
    {
      "cell_type": "markdown",
      "metadata": {
        "id": "mzym4src9JDW",
        "colab_type": "text"
      },
      "source": [
        "## Preparations"
      ]
    },
    {
      "cell_type": "markdown",
      "metadata": {
        "id": "Sz7qvqJ26q2C",
        "colab_type": "text"
      },
      "source": [
        "First, make sure matplotlib is installed:"
      ]
    },
    {
      "cell_type": "code",
      "metadata": {
        "id": "wQv2Bm9T6xjz",
        "colab_type": "code",
        "outputId": "0a372614-a8f0-4e89-8272-419dbc084f0d",
        "colab": {
          "base_uri": "https://localhost:8080/",
          "height": 171
        }
      },
      "source": [
        "!pip install matplotlib"
      ],
      "execution_count": 0,
      "outputs": [
        {
          "output_type": "stream",
          "text": [
            "Requirement already satisfied: matplotlib in /usr/local/lib/python3.6/dist-packages (3.0.3)\n",
            "Requirement already satisfied: kiwisolver>=1.0.1 in /usr/local/lib/python3.6/dist-packages (from matplotlib) (1.1.0)\n",
            "Requirement already satisfied: python-dateutil>=2.1 in /usr/local/lib/python3.6/dist-packages (from matplotlib) (2.5.3)\n",
            "Requirement already satisfied: cycler>=0.10 in /usr/local/lib/python3.6/dist-packages (from matplotlib) (0.10.0)\n",
            "Requirement already satisfied: numpy>=1.10.0 in /usr/local/lib/python3.6/dist-packages (from matplotlib) (1.16.5)\n",
            "Requirement already satisfied: pyparsing!=2.0.4,!=2.1.2,!=2.1.6,>=2.0.1 in /usr/local/lib/python3.6/dist-packages (from matplotlib) (2.4.2)\n",
            "Requirement already satisfied: setuptools in /usr/local/lib/python3.6/dist-packages (from kiwisolver>=1.0.1->matplotlib) (41.2.0)\n",
            "Requirement already satisfied: six>=1.5 in /usr/local/lib/python3.6/dist-packages (from python-dateutil>=2.1->matplotlib) (1.12.0)\n"
          ],
          "name": "stdout"
        }
      ]
    },
    {
      "cell_type": "markdown",
      "metadata": {
        "id": "JV6V_i3j5AET",
        "colab_type": "text"
      },
      "source": [
        "Now run the cell below to import matplotlib."
      ]
    },
    {
      "cell_type": "code",
      "metadata": {
        "id": "ist8tNfR3Lio",
        "colab_type": "code",
        "colab": {}
      },
      "source": [
        "import matplotlib.pyplot as plt"
      ],
      "execution_count": 0,
      "outputs": []
    },
    {
      "cell_type": "markdown",
      "metadata": {
        "id": "cHWmse8R81Bo",
        "colab_type": "text"
      },
      "source": [
        "## Line Plot"
      ]
    },
    {
      "cell_type": "code",
      "metadata": {
        "id": "Jn2Ia6Ca9bWF",
        "colab_type": "code",
        "outputId": "af0320a3-773b-4f84-9042-f2f9e75e6dea",
        "colab": {
          "base_uri": "https://localhost:8080/",
          "height": 269
        }
      },
      "source": [
        "# Let's draw a simple line plot for the equation y = x^2 for x from 1 to 5\n",
        "y = [1, 4, 9, 16, 25] # y values\n",
        "plt.plot(y)\n",
        "plt.show()"
      ],
      "execution_count": 0,
      "outputs": [
        {
          "output_type": "display_data",
          "data": {
            "image/png": "[encoded data removed]",
            "text/plain": [
              "<Figure size 432x288 with 1 Axes>"
            ]
          },
          "metadata": {
            "tags": []
          }
        }
      ]
    },
    {
      "cell_type": "markdown",
      "metadata": {
        "id": "HYgibdKDBHi4",
        "colab_type": "text"
      },
      "source": [
        "As you can see, by default the x values start at 0 and end at 4. Since we wanted to draw y = x<sup>2</sup>, our x values should start at 1 and end at 5."
      ]
    },
    {
      "cell_type": "code",
      "metadata": {
        "id": "jWH0WmXvCUGD",
        "colab_type": "code",
        "outputId": "0c8f74f6-9860-4ec3-a448-8b545396c7d9",
        "colab": {
          "base_uri": "https://localhost:8080/",
          "height": 269
        }
      },
      "source": [
        "x = [1, 2, 3, 4, 5] # these are our new x values (our y values remain unchanged)\n",
        "plt.plot(x, y)\n",
        "plt.show()"
      ],
      "execution_count": 0,
      "outputs": [
        {
          "output_type": "display_data",
          "data": {
            "image/png": "[encoded data removed]",
            "text/plain": [
              "<Figure size 432x288 with 1 Axes>"
            ]
          },
          "metadata": {
            "tags": []
          }
        }
      ]
    },
    {
      "cell_type": "markdown",
      "metadata": {
        "id": "sJKSvAxVG-kM",
        "colab_type": "text"
      },
      "source": [
        "We should now remove the unnecessary decimals in the x axis. Since our x values are integers, it can make our plot cleaner."
      ]
    },
    {
      "cell_type": "code",
      "metadata": {
        "id": "yeBRej7yHjGh",
        "colab_type": "code",
        "outputId": "8161ffdb-375d-47ea-c7db-e7c99a1837d2",
        "colab": {
          "base_uri": "https://localhost:8080/",
          "height": 269
        }
      },
      "source": [
        "plt.xticks(x) # this sets the labels on the x axis, here we are setting them to the x values\n",
        "plt.plot(x, y)\n",
        "plt.show()"
      ],
      "execution_count": 0,
      "outputs": [
        {
          "output_type": "display_data",
          "data": {
            "image/png": "[encoded data removed]",
            "text/plain": [
              "<Figure size 432x288 with 1 Axes>"
            ]
          },
          "metadata": {
            "tags": []
          }
        }
      ]
    },
    {
      "cell_type": "code",
      "metadata": {
        "id": "fwKvGSNQLdPR",
        "colab_type": "code",
        "outputId": "90a5b7b7-ff45-41ca-ed5b-567766443f69",
        "colab": {
          "base_uri": "https://localhost:8080/",
          "height": 295
        }
      },
      "source": [
        "# Adding a title and axis labels to the plot\n",
        "plt.xticks(x)\n",
        "plt.title('y = x^2')\n",
        "plt.xlabel('x')\n",
        "plt.ylabel('x^2')\n",
        "plt.plot(x, y)\n",
        "plt.show()"
      ],
      "execution_count": 0,
      "outputs": [
        {
          "output_type": "display_data",
          "data": {
            "image/png": "[encoded data removed]",
            "text/plain": [
              "<Figure size 432x288 with 1 Axes>"
            ]
          },
          "metadata": {
            "tags": []
          }
        }
      ]
    },
    {
      "cell_type": "code",
      "metadata": {
        "id": "JsT2ckepARWf",
        "colab_type": "code",
        "outputId": "b886a339-ea6a-4c8a-a1f3-cba3b7cc8b1a",
        "colab": {
          "base_uri": "https://localhost:8080/",
          "height": 269
        }
      },
      "source": [
        "# Now let's add another series to our plot\n",
        "y2 = [25, 16, 9, 4, 1] # our second series (we'll use the same x values)\n",
        "plt.xticks(x)\n",
        "plt.plot(x, y)\n",
        "\n",
        "\"\"\"\n",
        "  EXERCISE\n",
        "  \n",
        "  Try plotting the second series.\n",
        "  hint: you can use the same function we used to plot the first series.\n",
        "\"\"\"\n",
        "\n",
        "plt.plot(x, y2)\n",
        "\"\"\"\n",
        "  END EXERCISE\n",
        "\"\"\"\n",
        "\n",
        "plt.show()"
      ],
      "execution_count": 0,
      "outputs": [
        {
          "output_type": "display_data",
          "data": {
            "image/png": "[encoded data removed]",
            "text/plain": [
              "<Figure size 432x288 with 1 Axes>"
            ]
          },
          "metadata": {
            "tags": []
          }
        }
      ]
    },
    {
      "cell_type": "markdown",
      "metadata": {
        "id": "jc2LDKStPi0s",
        "colab_type": "text"
      },
      "source": [
        "## Bar Chart"
      ]
    },
    {
      "cell_type": "code",
      "metadata": {
        "id": "0pDAFkOOFw55",
        "colab_type": "code",
        "outputId": "3d7a1c7c-46e1-4b33-d7e3-140a141f4626",
        "colab": {
          "base_uri": "https://localhost:8080/",
          "height": 302
        }
      },
      "source": [
        "# preparing random data\n",
        "import numpy as np\n",
        "bar_x = np.arange(4)\n",
        "bar_y = np.random.randn(4) * 5 + 20\n",
        "print('x: ', bar_x)\n",
        "print('y: ', bar_y)\n",
        "\n",
        "\"\"\"\n",
        "  EXERCISE\n",
        "  \n",
        "  Try plotting a bar chart with bar_x and bar_y values. Then change the width of the bars to 0.5\n",
        "  hint: https://matplotlib.org/3.1.1/api/_as_gen/matplotlib.pyplot.bar.html\n",
        "\"\"\"\n",
        "\n",
        "# TODO (hint: just one line)\n",
        "plt.bar(bar_x, bar_y, width=0.5)\n",
        "\n",
        "\"\"\"\n",
        "  END EXERCISE\n",
        "\"\"\"\n",
        "\n",
        "plt.show()"
      ],
      "execution_count": 0,
      "outputs": [
        {
          "output_type": "stream",
          "text": [
            "x:  [0 1 2 3]\n",
            "y:  [14.98871662 27.85619601 24.31186401 27.99546876]\n"
          ],
          "name": "stdout"
        },
        {
          "output_type": "display_data",
          "data": {
            "image/png": "[encoded data removed]",
            "text/plain": [
              "<Figure size 432x288 with 1 Axes>"
            ]
          },
          "metadata": {
            "tags": []
          }
        }
      ]
    },
    {
      "cell_type": "markdown",
      "metadata": {
        "id": "7XFb9UroSZ6s",
        "colab_type": "text"
      },
      "source": [
        "## Scatter Plot"
      ]
    },
    {
      "cell_type": "code",
      "metadata": {
        "id": "Y7N275O7SeOJ",
        "colab_type": "code",
        "outputId": "a9c691b6-d28c-4286-9b8a-268be3515a21",
        "colab": {
          "base_uri": "https://localhost:8080/",
          "height": 269
        }
      },
      "source": [
        "# preparing random data\n",
        "import numpy as np\n",
        "scatter_x = np.random.randn(10)\n",
        "scatter_y = np.random.randn(10)\n",
        "\n",
        "# drawing scatter plot\n",
        "plt.scatter(scatter_x, scatter_y)\n",
        "plt.show()"
      ],
      "execution_count": 0,
      "outputs": [
        {
          "output_type": "display_data",
          "data": {
            "image/png": "[encoded data removed]",
            "text/plain": [
              "<Figure size 432x288 with 1 Axes>"
            ]
          },
          "metadata": {
            "tags": []
          }
        }
      ]
    },
    {
      "cell_type": "markdown",
      "metadata": {
        "id": "-GHyCHvLVLWE",
        "colab_type": "text"
      },
      "source": [
        "Let's add another series to the plot."
      ]
    },
    {
      "cell_type": "code",
      "metadata": {
        "id": "yXjK01BFU1IZ",
        "colab_type": "code",
        "outputId": "a5cc00e0-034d-491d-e5c4-81be14df314b",
        "colab": {
          "base_uri": "https://localhost:8080/",
          "height": 269
        }
      },
      "source": [
        "# preparing random data\n",
        "import numpy as np\n",
        "scatter_y2 = np.random.randn(10)\n",
        "\n",
        "# drawing scatter plot\n",
        "plt.scatter(scatter_x, scatter_y)\n",
        "\n",
        "\"\"\"\n",
        "  EXERCISE\n",
        "  \n",
        "  Try adding the series \"scatter_y2\" to the plot (same x values \"scatter_x\")\n",
        "  By default the markers will be small orange circles.\n",
        "  1. Change their size to 1000\n",
        "  2. Change their color to red\n",
        "  3. Change the marker style to star (*)\n",
        "  4. Change the alpha to 0.5\n",
        "  \n",
        "  hint: https://matplotlib.org/3.1.1/api/_as_gen/matplotlib.pyplot.scatter.html\n",
        "\"\"\"\n",
        "\n",
        "plt.scatter(scatter_x, scatter_y2, s=1000, color=\"red\", marker=\"*\", alpha=0.5)\n",
        "\"\"\"\n",
        "  END EXERCISE\n",
        "\"\"\"\n",
        "\n",
        "plt.show()"
      ],
      "execution_count": 0,
      "outputs": [
        {
          "output_type": "display_data",
          "data": {
            "image/png": "[encoded data removed]",
            "text/plain": [
              "<Figure size 432x288 with 1 Axes>"
            ]
          },
          "metadata": {
            "tags": []
          }
        }
      ]
    },
    {
      "cell_type": "markdown",
      "metadata": {
        "id": "37wnqUjiYOWh",
        "colab_type": "text"
      },
      "source": [
        "## Figures and Axes\n",
        "This section shows how you can create a grid of plots in a single figure."
      ]
    },
    {
      "cell_type": "code",
      "metadata": {
        "id": "m1R8-tDjaRYF",
        "colab_type": "code",
        "outputId": "37070924-c560-4f71-e493-e008ba975f3b",
        "colab": {
          "base_uri": "https://localhost:8080/",
          "height": 269
        }
      },
      "source": [
        "# the function below creates a grid of subplots with the given shape\n",
        "fig, ax_list = plt.subplots(2, 3)"
      ],
      "execution_count": 0,
      "outputs": [
        {
          "output_type": "display_data",
          "data": {
            "image/png": "[encoded data removed]",
            "text/plain": [
              "<Figure size 432x288 with 6 Axes>"
            ]
          },
          "metadata": {
            "tags": []
          }
        }
      ]
    },
    {
      "cell_type": "markdown",
      "metadata": {
        "id": "vOPQE-PKb06q",
        "colab_type": "text"
      },
      "source": [
        "`ax_list` is a numpy array of the subplots\n",
        "\n",
        "We can access each subplot by indexing it. For instance, the top right subplot is on row 0 and column 2. Let's turn it off."
      ]
    },
    {
      "cell_type": "code",
      "metadata": {
        "id": "nrxZcP-lcoYN",
        "colab_type": "code",
        "outputId": "c43934fc-c15f-4051-a0b2-2bf8e6ab709c",
        "colab": {
          "base_uri": "https://localhost:8080/",
          "height": 269
        }
      },
      "source": [
        "fig, ax_list = plt.subplots(2, 3)\n",
        "ax_list[0, 2].axis('off')\n",
        "fig.show()"
      ],
      "execution_count": 0,
      "outputs": [
        {
          "output_type": "display_data",
          "data": {
            "image/png": "[encoded data removed]",
            "text/plain": [
              "<Figure size 432x288 with 6 Axes>"
            ]
          },
          "metadata": {
            "tags": []
          }
        }
      ]
    },
    {
      "cell_type": "markdown",
      "metadata": {
        "id": "nqNbtlrWdH_i",
        "colab_type": "text"
      },
      "source": [
        "All the functions that we were previously calling from `plt`, can now be called from each *axes* in `ax_list`."
      ]
    },
    {
      "cell_type": "code",
      "metadata": {
        "id": "bpbwXgE_dtIw",
        "colab_type": "code",
        "outputId": "b76950c1-00df-4178-8188-f82af4d05ef5",
        "colab": {
          "base_uri": "https://localhost:8080/",
          "height": 269
        }
      },
      "source": [
        "# we are now going to make a 2 by 1 grid, and draw some plots.\n",
        "fig, ax_list = plt.subplots(2, 1)\n",
        "\n",
        "# drawing a line plot in the first subplot\n",
        "line_x = [1, 2, 3, 4, 5]\n",
        "line_y = [-0.5, 0.5, -0.5, 0.5, -0.5]\n",
        "ax_list[0].plot(line_x, line_y)\n",
        "\n",
        "\"\"\"\n",
        "  EXERCISE\n",
        "  \n",
        "  Now try drawing a histogram in the second subplot:\n",
        "  1. Try generating some data points with numpy.\n",
        "  2. Draw a histogram in the second subplot.\n",
        "  3. Play around with some of the arguments to see what they do!\n",
        "  \n",
        "  hint: https://matplotlib.org/3.1.1/api/_as_gen/matplotlib.pyplot.hist.html\n",
        "\"\"\"\n",
        "\n",
        "data = np.random.randn(100)\n",
        "ax_list[1].hist(data)\n",
        "\"\"\"\n",
        "  END EXERCISE\n",
        "\"\"\"\n",
        "\n",
        "plt.show()"
      ],
      "execution_count": 0,
      "outputs": [
        {
          "output_type": "display_data",
          "data": {
            "image/png": "[encoded data removed]",
            "text/plain": [
              "<Figure size 432x288 with 2 Axes>"
            ]
          },
          "metadata": {
            "tags": []
          }
        }
      ]
    },
    {
      "cell_type": "markdown",
      "metadata": {
        "id": "rVJs00tkVt9m",
        "colab_type": "text"
      },
      "source": [
        "## References\n",
        "https://matplotlib.org/3.1.1/tutorials/introductory/pyplot.html\n",
        "\n",
        "https://matplotlib.org/3.1.1/tutorials/introductory/usage.html"
      ]
    },
    {
      "cell_type": "code",
      "metadata": {
        "id": "q6DtOJoQdGfH",
        "colab_type": "code",
        "colab": {}
      },
      "source": [
        ""
      ],
      "execution_count": 0,
      "outputs": []
    },
    {
      "cell_type": "markdown",
      "metadata": {
        "id": "k74JYeEpdN7u",
        "colab_type": "text"
      },
      "source": [
        "# Challenge Question"
      ]
    },
    {
      "cell_type": "markdown",
      "metadata": {
        "id": "kMVuIaUpBiY5",
        "colab_type": "text"
      },
      "source": [
        "# Grid World Example\n",
        "\n",
        "In this section, we'll code a basic grid world. \n",
        "* We'll consider different forms of representations the agent can use to encode its location within the grid.\n",
        "* We'll also code some simple bots that try to navigate the grid world.\n",
        "* Finally, we'll visualize the grid and the path taken by the bot.\n",
        "\n",
        "The aim is that you are able to understand basic Python functionalities."
      ]
    },
    {
      "cell_type": "markdown",
      "metadata": {
        "id": "agUAl1snBiZA",
        "colab_type": "text"
      },
      "source": [
        "**A simple grid world.** (image taken from https://www.growingwiththeweb.com/2012/06/a-pathfinding-algorithm.html)\n",
        "![GitHub Logo](https://www.growingwiththeweb.com/images/2012/06/03/grid-example.svg)\n",
        "\n",
        "Suppose you have a grid, and you wish to represent it in your computer. \n",
        "* What could be the different possible ways to do so? *(maybe graphs, matrices, others?)*\n",
        "* What would be the most natural way to store such a grid, and what library could you use?"
      ]
    },
    {
      "cell_type": "code",
      "metadata": {
        "id": "s-1zMuMiBiZE",
        "colab_type": "code",
        "colab": {}
      },
      "source": [
        "import numpy as np\n",
        "\n",
        "# Example storage: In form of a numpy array\n",
        "# 2: start position\n",
        "# 0: an empty block\n",
        "# 1: a walled block\n",
        "# 3: goal position\n",
        "\n",
        "grid1 = np.array([[2, 0, 0, 0, 1, 1, 1],\n",
        "                  [0, 0, 0, 0, 1, 1, 1],\n",
        "                  [1, 0, 0, 1, 0, 0, 1],\n",
        "                  [1, 1, 0, 0, 0, 0, 3]])"
      ],
      "execution_count": 0,
      "outputs": []
    },
    {
      "cell_type": "markdown",
      "metadata": {
        "id": "qyDIJ4tNBiZS",
        "colab_type": "text"
      },
      "source": [
        "Once, you have a suitable representation for the grid, how would you visualize it?\n",
        "* You'll have to consider plotting this whole matrix."
      ]
    },
    {
      "cell_type": "code",
      "metadata": {
        "id": "ncy9gxRRBiZV",
        "colab_type": "code",
        "outputId": "5ac1bbaf-89cb-4e3b-8ebc-fd8cc1429d6c",
        "colab": {
          "base_uri": "https://localhost:8080/",
          "height": 275
        }
      },
      "source": [
        "import matplotlib.pyplot as plt\n",
        "\n",
        "plt.matshow(grid1)\n",
        "plt.show()"
      ],
      "execution_count": 0,
      "outputs": [
        {
          "output_type": "display_data",
          "data": {
            "image/png": "[encoded data removed]",
            "text/plain": [
              "<Figure size 504x288 with 1 Axes>"
            ]
          },
          "metadata": {
            "tags": []
          }
        }
      ]
    },
    {
      "cell_type": "markdown",
      "metadata": {
        "id": "ecN7oR0yBiZq",
        "colab_type": "text"
      },
      "source": [
        "## Bot Location Representation\n",
        "\n",
        "Now let us consider how might a bot sitting on, say, the **(0, 0)** block reperesent its own position?\n",
        "1. One way could be to use Cartesisan Coordinates: *[X, Y]*.\n",
        "2. Another one could be to use the bot's *bird view distance* from both the start state and the goal position.\n",
        "3. Yet another one could be the bot's distance from the walls surrounding it (such a representation may come from IR sensors attached to the bot).\n",
        "\n",
        "As an example, following are the three different representations for a bot sitting on the **(0, 0)** block.\n",
        "1. Cartesian Coordinates                                          : ***[0, 0]***\n",
        "2. [distance from start state, distance from goal state]            : ***[0, 6.71]*** \n",
        "3. [distance from left wall, right wall, top wall, bottom wall]   : ***[0, 3, 0, 1]*** \n",
        "\n",
        "### Problem:\n",
        "* Write two functions, which can convert the position representation from the cartesian coordinates to the other two systems."
      ]
    },
    {
      "cell_type": "code",
      "metadata": {
        "id": "zb-uE0ALBiZt",
        "colab_type": "code",
        "colab": {}
      },
      "source": [
        "import math\n",
        "def cartesian_to_bird(grid, X, Y):\n",
        "    \"\"\"The function converts the cartesian coordinates representation \n",
        "       of the bot's location to the bird view distance from the start \n",
        "       and goal state.\n",
        "       \n",
        "       Input:\n",
        "       grid: a 2-D numpy array representing the grid world\n",
        "       X: the X location of the bot\n",
        "       Y: the Y location of the bot\n",
        "       \n",
        "       Returns:\n",
        "       (start_dist, goal_dist): a tuple which contains the bird view \n",
        "       distances of the bot from the start and the goal states.\n",
        "    \"\"\"\n",
        "    width, length = grid.shape\n",
        "\n",
        "    ###### YOUR CODE BEGINS HERE #####\n",
        "    start_dist = math.sqrt((X * X) + (Y * Y))\n",
        "    xDistToGoal = abs(X - (width - 1))\n",
        "    yDistToGoal = abs(Y - (length - 1))\n",
        "    goal_dist = math.sqrt((xDistToGoal ** 2) + (yDistToGoal ** 2))\n",
        "    \n",
        "    start_pos = np.array([0, 0])\n",
        "    goal_pos = np.array([width - 1, length - 1])\n",
        "    current_pos = np.array([X, Y])\n",
        "    start_dist = np.sqrt(((current_pos - start_pos) ** 2).sum())\n",
        "    goal_dist = np.sqrt(((current_pos - goal_pos) ** 2).sum())\n",
        "    \n",
        "    ###### YOUR CODE ENDS HERE #####\n",
        "    \n",
        "    return start_dist, goal_dist\n",
        "\n",
        "\n",
        "############################################################################  \n",
        "########### ONLY IF YOU ARE UNABLE TO SOLVE, USE THE FOLLOWING #############\n",
        "############################################################################\n",
        "\n",
        "############################################################################ \n",
        "############################################################################\n",
        "##############position = np.array([X, Y])###################################\n",
        "##############start = np.array([0, 0])######################################\n",
        "##############goal = np.array([width-1, length-1])##########################\n",
        "############################################################################\n",
        "##############start_dist = np.sqrt(((position - start)**2).sum())###########\n",
        "##############goal_dist = np.sqrt(np.sum((position - goal)**2))#############\n",
        "############################################################################\n",
        "############################################################################  "
      ],
      "execution_count": 0,
      "outputs": []
    },
    {
      "cell_type": "code",
      "metadata": {
        "scrolled": true,
        "id": "ayVxRaNlBiZ0",
        "colab_type": "code",
        "outputId": "efd7697a-6091-4299-bf3d-e9435b23ffec",
        "colab": {
          "base_uri": "https://localhost:8080/",
          "height": 50
        }
      },
      "source": [
        "# Let's test the cartesian_to_bird() function\n",
        "print(cartesian_to_bird(grid1, 0, 0))  # Ans: (0.0, 6.708203932499369)\n",
        "print(cartesian_to_bird(grid1, 3, 2))  # Ans: (3.605551275463989, 4.0)"
      ],
      "execution_count": 0,
      "outputs": [
        {
          "output_type": "stream",
          "text": [
            "(0.0, 6.708203932499369)\n",
            "(3.605551275463989, 4.0)\n"
          ],
          "name": "stdout"
        }
      ]
    },
    {
      "cell_type": "code",
      "metadata": {
        "id": "pSCqQPRSBiZ9",
        "colab_type": "code",
        "colab": {}
      },
      "source": [
        "def cartesian_to_ir(grid, X, Y):\n",
        "    \"\"\"The function converts the cartesian coordinates representation \n",
        "       of the bot's location to the distances from the walls on four\n",
        "       sides of it. Such a reading may come from four IR sensors.\n",
        "       \n",
        "       Input:\n",
        "       grid: a 2-D numpy array representing the grid world\n",
        "       X: the X location of the bot\n",
        "       Y: the Y location of the bot\n",
        "       \n",
        "       Returns:\n",
        "       distance from (left wall, right wall, top wall, bottom_wall): a tuple \n",
        "           which contains the bird view distances of the bot\n",
        "           from the start and the goal states.\n",
        "    \"\"\"\n",
        " \n",
        "    width, length = grid.shape\n",
        "    \n",
        "    ###### YOUR CODE BEGINS HERE #####\n",
        "    top_ir = X\n",
        "    for i in range(X - 1, -1, -1):\n",
        "      if grid[i, Y] == 1:\n",
        "        top_ir = X - i - 1\n",
        "        break\n",
        "    \n",
        "    bottom_ir = width - X - 1\n",
        "    for i in range(X + 1, width):\n",
        "      if grid[i, Y] == 1:\n",
        "        bottom_ir = i - X - 1\n",
        "        break\n",
        "    \n",
        "    right_ir = length - 1 - Y\n",
        "    for i in range(Y + 1, length):\n",
        "      if grid[X, i] == 1:\n",
        "        right_ir = i - Y - 1\n",
        "        break\n",
        "    \n",
        "    left_ir = Y\n",
        "    for i in range(Y-1, -1, -1):\n",
        "        if grid[X, i] == 1:\n",
        "            left_ir = Y - i - 1\n",
        "            break\n",
        "    \n",
        "    ###### YOUR CODE ENDS HERE #####\n",
        "\n",
        "    return  left_ir, right_ir, top_ir, bottom_ir\n",
        "\n",
        "\n",
        "############################################################################  \n",
        "########### ONLY IF YOU ARE UNABLE TO SOLVE, USE THE FOLLOWING #############\n",
        "############################################################################\n",
        "\n",
        "############################################################################ \n",
        "############################################################################\n",
        "############## left_ir######################################################\n",
        "#############left_ir = Y - 0################################################\n",
        "#############for i in range(Y-1, -1, -1):###################################\n",
        "#############    if grid[X, i] == 1:########################################\n",
        "#############        left_ir = Y - i - 1####################################\n",
        "#############        break##################################################\n",
        "############################################################################\n",
        "############## right_ir#####################################################\n",
        "#############right_ir = length - Y - 1######################################\n",
        "#############for i in range(Y+1, length):###################################                  \n",
        "#############    if grid[X, i] == 1:########################################\n",
        "#############        right_ir = i - Y - 1###################################\n",
        "#############        break##################################################\n",
        "############################################################################\n",
        "############## top_ir#######################################################\n",
        "#############top_ir = X - 0#################################################\n",
        "#############for i in range(X-1, -1, -1):###################################\n",
        "#############    if grid[i, Y] == 1:########################################\n",
        "#############        top_ir = X - i - 1#####################################\n",
        "#############        break##################################################\n",
        "############################################################################\n",
        "############## bottom_ir####################################################\n",
        "#############bottom_ir = width - X - 1######################################\n",
        "#############for i in range(X+1, width):####################################                 \n",
        "#############    if grid[i, Y] == 1:########################################\n",
        "#############        bottom_ir = i - X - 1##################################\n",
        "#############        break##################################################\n",
        "############################################################################ \n",
        "############################################################################"
      ],
      "execution_count": 0,
      "outputs": []
    },
    {
      "cell_type": "code",
      "metadata": {
        "id": "lxTqt_73BiaE",
        "colab_type": "code",
        "outputId": "48683ef0-30ba-4858-9995-ae91718ea822",
        "colab": {
          "base_uri": "https://localhost:8080/",
          "height": 101
        }
      },
      "source": [
        "# Let's test the cartesian_to_ir() function\n",
        "print(cartesian_to_ir(grid1, 0, 0)) # Ans: (0, 0, 0, 0)\n",
        "print(cartesian_to_ir(grid1, 2, 2)) # Ans: (1, 0, 2, 1)\n",
        "print(cartesian_to_ir(grid1, 1, 3)) # Ans: (3, 0, 1, 0)\n",
        "print(cartesian_to_ir(grid1, 2, 5)) # Ans: (1, 0, 0, 1)\n",
        "print(cartesian_to_ir(grid1, 3, 3)) # Ans: (1, 3, 0, 0)"
      ],
      "execution_count": 0,
      "outputs": [
        {
          "output_type": "stream",
          "text": [
            "(0, 3, 0, 1)\n",
            "(1, 0, 2, 1)\n",
            "(3, 0, 1, 0)\n",
            "(1, 0, 0, 1)\n",
            "(1, 3, 0, 0)\n"
          ],
          "name": "stdout"
        }
      ]
    },
    {
      "cell_type": "markdown",
      "metadata": {
        "id": "m4dptx6JBiaN",
        "colab_type": "text"
      },
      "source": [
        "## Coding a bot that navigates the maze from the start to the goal state\n",
        "Now, we'll code a simple bot that, at each step, moves in the direction where there is maximum space to move."
      ]
    },
    {
      "cell_type": "code",
      "metadata": {
        "id": "lKTwVVkvBiaQ",
        "colab_type": "code",
        "colab": {}
      },
      "source": [
        "def simple_bot(grid, X0, Y0, number_steps=100):\n",
        "    X, Y = X0, Y0\n",
        "\n",
        "    bot_path = np.array([[X0, Y0]])\n",
        "    \n",
        "    for _ in range(number_steps):\n",
        "\n",
        "        # distance to each wall\n",
        "        ir = np.array(cartesian_to_ir(grid, X, Y))\n",
        "\n",
        "        # index of furthest wall\n",
        "        direction = np.argmax(ir)\n",
        "        \n",
        "        # distance to that wall\n",
        "        distance = ir[direction]\n",
        "\n",
        "        # move towards it\n",
        "        if direction == 0:\n",
        "            Y -= distance\n",
        "        elif direction == 1:\n",
        "            Y += distance\n",
        "        elif direction == 2:\n",
        "            X -= distance\n",
        "        elif direction == 3:\n",
        "            X += distance\n",
        "\n",
        "        pos = np.array([[X, Y]])\n",
        "\n",
        "        # \n",
        "        bot_path = np.concatenate((bot_path, pos))\n",
        "\n",
        "        if grid[X, Y] == 3:\n",
        "            print(\"Goal Reached!!!\")\n",
        "            break\n",
        "\n",
        "    return bot_path"
      ],
      "execution_count": 0,
      "outputs": []
    },
    {
      "cell_type": "markdown",
      "metadata": {
        "id": "OU6weUSrBiaX",
        "colab_type": "text"
      },
      "source": [
        "## Plotting the bot path in the grid"
      ]
    },
    {
      "cell_type": "code",
      "metadata": {
        "id": "_Jsr_spABiaZ",
        "colab_type": "code",
        "colab": {}
      },
      "source": [
        "def plot_grid(grid, bot_path=None):\n",
        "    # plot the grid\n",
        "    plt.matshow(grid)\n",
        "\n",
        "    # plot the bot path\n",
        "    if bot_path is not None:\n",
        "        plt.plot(bot_path[:, 1], bot_path[:, 0],\n",
        "                 color='r', linewidth=5, alpha=0.8)\n",
        "        plt.scatter(bot_path[:, 1], bot_path[:, 0], s=100, color='k')\n",
        "        \n",
        "    # set the x and y axes to the same scale\n",
        "    plt.gca().set_aspect('equal', adjustable='box')\n",
        "\n",
        "    plt.show()"
      ],
      "execution_count": 0,
      "outputs": []
    },
    {
      "cell_type": "markdown",
      "metadata": {
        "id": "cTblFPjWBiah",
        "colab_type": "text"
      },
      "source": [
        "### Problem\n",
        "* Identify the various library functions used in the *plot_grid()* function.\n",
        "* Also identify various parameters for these library functions such as *color*, *linewidth*, etc.\n",
        "* Describe how the numpy arrays are used for storing the bot path."
      ]
    },
    {
      "cell_type": "code",
      "metadata": {
        "id": "yONSXs1jBiak",
        "colab_type": "code",
        "outputId": "831cb8cd-c900-4105-ab5e-de2d181ff7c1",
        "colab": {
          "base_uri": "https://localhost:8080/",
          "height": 275
        }
      },
      "source": [
        "# traversing the grid world with the simple bot\n",
        "simple_bot_path = simple_bot(grid1, X0=0, Y0=0, number_steps=10)\n",
        "plot_grid(grid1, simple_bot_path)"
      ],
      "execution_count": 0,
      "outputs": [
        {
          "output_type": "display_data",
          "data": {
            "image/png": "[encoded data removed]",
            "text/plain": [
              "<Figure size 504x288 with 1 Axes>"
            ]
          },
          "metadata": {
            "tags": []
          }
        }
      ]
    },
    {
      "cell_type": "markdown",
      "metadata": {
        "id": "tNn6NKSaBias",
        "colab_type": "text"
      },
      "source": [
        "### Problem\n",
        "* Describe the behavior of the simple bot on the above grid.\n",
        "* Can you describe a grid which the simple bot can solve.\n",
        "\n",
        "\n",
        "### Problem\n",
        "* Also, now that you have understood how the simple bot behaves, read the *simple_bot()* function and add useful comments about its implementation. The function is not commented!\n",
        "\n",
        "### Problem\n",
        "* Further, can you create a grid which the simple bot can actually solve?"
      ]
    },
    {
      "cell_type": "code",
      "metadata": {
        "id": "u61K9gc9Biat",
        "colab_type": "code",
        "outputId": "3af96e05-5d5f-47d3-92c7-102fa6e7a010",
        "colab": {
          "base_uri": "https://localhost:8080/",
          "height": 292
        }
      },
      "source": [
        "# create a grid which the simple bot can solve\n",
        "\n",
        "###### YOUR CODE BEGINS HERE #####\n",
        "\n",
        "my_grid = np.array([[2, 0, 0, 0, 0, 3],\n",
        "                    [1, 0, 0, 0, 0, 0]])\n",
        "\n",
        "###### YOUR CODE ENDS HERE #####\n",
        "\n",
        "# plot the performance of the simple bot on your grid\n",
        "simple_bot_path = simple_bot(my_grid, X0=0, Y0=0, number_steps=10)\n",
        "plot_grid(my_grid, simple_bot_path)"
      ],
      "execution_count": 0,
      "outputs": [
        {
          "output_type": "stream",
          "text": [
            "Goal Reached!!!\n"
          ],
          "name": "stdout"
        },
        {
          "output_type": "display_data",
          "data": {
            "image/png": "[encoded data removed]",
            "text/plain": [
              "<Figure size 864x288 with 1 Axes>"
            ]
          },
          "metadata": {
            "tags": []
          }
        }
      ]
    },
    {
      "cell_type": "code",
      "metadata": {
        "id": "6JJXyYfzBiaz",
        "colab_type": "code",
        "outputId": "d2941762-414a-493c-fdfe-9ff1d1a93215",
        "colab": {
          "base_uri": "https://localhost:8080/",
          "height": 356
        }
      },
      "source": [
        "# I also created a grid which the simple bot can traverse. You could see its performance on this grid too.\n",
        "\n",
        "grid2 = np.array([[2, 0, 0, 0, 1, 1, 1, 1, 1, 1, 1],\n",
        "                  [0, 0, 0, 0, 1, 1, 1, 0, 0, 0, 0],\n",
        "                  [0, 1, 1, 0, 1, 0, 1, 0, 1, 1, 0],\n",
        "                  [1, 1, 0, 0, 1, 0, 1, 0, 1, 1, 1],\n",
        "                  [0, 0, 0, 0, 0, 0, 0, 0, 0, 0, 1],\n",
        "                  [1, 1, 1, 1, 0, 1, 1, 1, 0, 0, 1],\n",
        "                  [0, 0, 0, 1, 0, 1, 1, 0, 0, 0, 0],\n",
        "                  [0, 1, 0, 1, 0, 0, 1, 0, 1, 0, 1],\n",
        "                  [0, 1, 0, 1, 0, 0, 1, 1, 1, 0, 1],\n",
        "                  [0, 1, 0, 1, 0, 1, 1, 0, 0, 0, 0],\n",
        "                  [0, 1, 0, 0, 0, 0, 1, 1, 0, 0, 0],\n",
        "                  [0, 1, 0, 1, 0, 0, 1, 1, 1, 0, 0],\n",
        "                  [0, 1, 1, 1, 1, 1, 1, 0, 0, 0, 1],\n",
        "                  [0, 1, 0, 1, 0, 0, 1, 1, 0, 0, 1],\n",
        "                  [0, 0, 0, 0, 0, 0, 0, 0, 0, 3, 1],])\n",
        "\n",
        "# uncomment one of these for different start locations\n",
        "\n",
        "# path = simple_bot(grid2, 0, 0)\n",
        "# path = simple_bot(grid2, 6, 0)\n",
        "# path = simple_bot(grid2, 4, 6)\n",
        "path = simple_bot(grid2, 6, 2)\n",
        "plot_grid(grid2, path)"
      ],
      "execution_count": 0,
      "outputs": [
        {
          "output_type": "display_data",
          "data": {
            "image/png": "[encoded data removed]",
            "text/plain": [
              "<Figure size 288x392.727 with 1 Axes>"
            ]
          },
          "metadata": {
            "tags": []
          }
        }
      ]
    },
    {
      "cell_type": "markdown",
      "metadata": {
        "id": "Ituntv6lBia7",
        "colab_type": "text"
      },
      "source": [
        "### Problem:\n",
        "* Code a random bot, which chooses its direction of movement randomly."
      ]
    },
    {
      "cell_type": "code",
      "metadata": {
        "id": "k748RfREBia9",
        "colab_type": "code",
        "colab": {}
      },
      "source": [
        "def random_bot(grid, X0, Y0, num_steps=100):\n",
        "    X, Y = X0, Y0\n",
        "\n",
        "    bot_path = np.array([[X0, Y0]])\n",
        "    \n",
        "    for _ in range(num_steps):\n",
        "        \n",
        "        ###### YOUR CODE BEGINS HERE #####\n",
        "        # distance to each wall\n",
        "        ir = np.array(cartesian_to_ir(grid, X, Y))\n",
        "        \n",
        "        direction = np.random.randint(0, 3)\n",
        "        if ir[direction] == 0:\n",
        "            distance = 0\n",
        "        else:\n",
        "            distance = np.random.randint(ir[direction])\n",
        "\n",
        "        # move towards it\n",
        "        if direction == 0:\n",
        "            Y -= distance\n",
        "        elif direction == 1:\n",
        "            Y += distance\n",
        "        elif direction == 2:\n",
        "            X -= distance\n",
        "        elif direction == 3:\n",
        "            X += distance\n",
        "\n",
        "        pos = np.array([[X, Y]])\n",
        "\n",
        "        bot_path = np.concatenate((bot_path, pos))\n",
        "\n",
        "        if grid[X, Y] == 3:\n",
        "            print(\"Goal Reached!!!\")\n",
        "            break\n",
        "        \n",
        "        ###### YOUR CODE ENDS HERE #####\n",
        "\n",
        "    return bot_path\n",
        "\n",
        "\n",
        "############################################################################  \n",
        "########### ONLY IF YOU ARE UNABLE TO SOLVE, USE THE FOLLOWING #############\n",
        "############################################################################\n",
        "\n",
        "############################################################################ \n",
        "############################################################################\n",
        "#############ir = np.array(cartesian_to_ir(grid, X, Y))#####################\n",
        "############################################################################\n",
        "#############direction = np.random.randint(4)###############################\n",
        "############################################################################\n",
        "############## randomly choose distance as well#############################\n",
        "#############if ir[direction] == 0:#########################################\n",
        "#############    distance = 0###############################################\n",
        "#############else:##########################################################\n",
        "#############    distance = np.random.randint(ir[direction])################\n",
        "############################################################################\n",
        "############## go maximum distance##########################################\n",
        "#############distance = ir[direction]#######################################\n",
        "############################################################################\n",
        "#############if direction == 0:#############################################\n",
        "#############    Y -= distance##############################################\n",
        "#############elif direction == 1:###########################################\n",
        "#############    Y += distance##############################################\n",
        "#############elif direction == 2:###########################################\n",
        "#############    X -= distance##############################################\n",
        "#############elif direction == 3:###########################################\n",
        "#############    X += distance##############################################\n",
        "############################################################################\n",
        "#############pos = np.array([[X, Y]])#######################################\n",
        "############################################################################\n",
        "#############bot_path = np.concatenate((bot_path, pos))#####################\n",
        "############################################################################\n",
        "#############if grid[X, Y] == 3:############################################\n",
        "#############    print(\"Goal Reached!!!\")###################################\n",
        "#############    break######################################################\n",
        "############################################################################ \n",
        "############################################################################"
      ],
      "execution_count": 0,
      "outputs": []
    },
    {
      "cell_type": "code",
      "metadata": {
        "id": "M5jbHFujBibD",
        "colab_type": "code",
        "outputId": "34705cd0-5c68-488b-dfa5-21545a1aef90",
        "colab": {
          "base_uri": "https://localhost:8080/",
          "height": 1000
        }
      },
      "source": [
        "# test the random bot on grid2\n",
        "path = random_bot(grid2, 0, 0, 100)\n",
        "plot_grid(grid2, path)"
      ],
      "execution_count": 0,
      "outputs": [
        {
          "output_type": "stream",
          "text": [
            "0\n",
            "3\n",
            "0\n",
            "0\n",
            "2\n",
            "1\n",
            "0\n",
            "0\n",
            "0\n",
            "0\n",
            "2\n",
            "2\n",
            "0\n",
            "2\n",
            "1\n",
            "2\n",
            "2\n",
            "0\n",
            "1\n",
            "2\n",
            "1\n",
            "0\n",
            "1\n",
            "1\n",
            "0\n",
            "0\n",
            "2\n",
            "0\n",
            "0\n",
            "0\n",
            "1\n",
            "1\n",
            "1\n",
            "2\n",
            "2\n",
            "1\n",
            "1\n",
            "0\n",
            "2\n",
            "2\n",
            "1\n",
            "1\n",
            "1\n",
            "0\n",
            "1\n",
            "2\n",
            "2\n",
            "2\n",
            "1\n",
            "0\n",
            "1\n",
            "0\n",
            "1\n",
            "0\n",
            "0\n",
            "1\n",
            "0\n",
            "2\n",
            "0\n",
            "2\n",
            "2\n",
            "2\n",
            "0\n",
            "2\n",
            "0\n",
            "2\n",
            "2\n",
            "1\n",
            "0\n",
            "0\n",
            "2\n",
            "1\n",
            "2\n",
            "2\n",
            "1\n",
            "0\n",
            "0\n",
            "1\n",
            "0\n",
            "1\n",
            "2\n",
            "1\n",
            "0\n",
            "1\n",
            "2\n",
            "0\n",
            "1\n",
            "2\n",
            "1\n",
            "2\n",
            "0\n",
            "0\n",
            "1\n",
            "1\n",
            "2\n",
            "1\n",
            "2\n",
            "1\n",
            "0\n",
            "2\n"
          ],
          "name": "stdout"
        },
        {
          "output_type": "display_data",
          "data": {
            "image/png": "[encoded data removed]",
            "text/plain": [
              "<Figure size 288x392.727 with 1 Axes>"
            ]
          },
          "metadata": {
            "tags": []
          }
        }
      ]
    },
    {
      "cell_type": "markdown",
      "metadata": {
        "id": "slFbFNvkBibJ",
        "colab_type": "text"
      },
      "source": [
        "That is it. We are done! If you have time left, you could try coding more adept bots, such as those based on graph traversal techniques."
      ]
    },
    {
      "cell_type": "code",
      "metadata": {
        "id": "WPbmUMgFdQbD",
        "colab_type": "code",
        "colab": {}
      },
      "source": [
        ""
      ],
      "execution_count": 0,
      "outputs": []
    },
    {
      "cell_type": "code",
      "metadata": {
        "id": "w1H4Lifsq5Ww",
        "colab_type": "code",
        "colab": {}
      },
      "source": [
        ""
      ],
      "execution_count": 0,
      "outputs": []
    }
  ]
}